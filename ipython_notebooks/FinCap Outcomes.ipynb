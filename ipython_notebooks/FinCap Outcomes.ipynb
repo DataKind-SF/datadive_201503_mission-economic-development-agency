{
 "metadata": {
  "name": "",
  "signature": "sha256:cf89f16ddd75ee3ff753173d7c9dfce3fdf6fa0db64e5ac62b9c0b40a18be3ec"
 },
 "nbformat": 3,
 "nbformat_minor": 0,
 "worksheets": [
  {
   "cells": [
    {
     "cell_type": "markdown",
     "metadata": {},
     "source": [
      "Findings:\n",
      "\n",
      "    * Of ~3000 fincap participants, we only have any assessment data for 885 of them. We don't know why -- might be worth followup analysis for demographic predictors.\n",
      "    * of those 885, we have multiple assessments for 653\n",
      "    * Some of this is because the first assessment was recently, but there are also older assessments without followups.\n",
      "    * We looked at the differences between assessments with followups and assessments without, but we were not able to predict which clients would come back for a followup assessment. This is a good thing -- it means that (until disproven) we will assume that the clients with followup are a representative sample of all the clients in the program."
     ]
    },
    {
     "cell_type": "code",
     "collapsed": false,
     "input": [
      "import pandas as pd\n",
      "import os"
     ],
     "language": "python",
     "metadata": {},
     "outputs": []
    },
    {
     "cell_type": "code",
     "collapsed": false,
     "input": [
      "filepath = os.path.expanduser('/Users/louispotok/Dropbox/DataDive_MEDA/DataKind_DataDive_MEDA_032715_v2_2015-03-27_clean_09_FINCAP_Case_Records.csv')"
     ],
     "language": "python",
     "metadata": {},
     "outputs": []
    },
    {
     "cell_type": "code",
     "collapsed": false,
     "input": [
      "fincap_records = pd.read_csv(filepath)"
     ],
     "language": "python",
     "metadata": {},
     "outputs": []
    },
    {
     "cell_type": "code",
     "collapsed": false,
     "input": [
      "filepath = '~/Dropbox/DataDive_MEDA/DataKind_DataDive_MEDA_032715_v2_2015-03-27_clean_04_Universal_Financial_Assessments.csv'\n",
      "assessments = pd.read_csv(os.path.expanduser(filepath))\n",
      "assessments['assessment_date_clean'] = pd.to_datetime(assessments['Assessment.Date'])\n",
      "#0\n",
      "current_income_col_name = 'Grand.Total.Household.Monthly.Income'\n",
      "goal_income_col_name = 'MONTHLY.Self.Sufficiency.Income.Desired'\n",
      "\n"
     ],
     "language": "python",
     "metadata": {},
     "outputs": []
    },
    {
     "cell_type": "code",
     "collapsed": false,
     "input": [
      "#1. Clients with only one assessment\n",
      "number_assessments_per_client = assessments.groupby('Contact.ID').size()\n",
      "clients_with_multiple_assessments = number_assessments_per_client[number_assessments_per_client > 1].index\n",
      "df = assessments[assessments['Contact.ID'].isin(clients_with_multiple_assessments)]\n"
     ],
     "language": "python",
     "metadata": {},
     "outputs": []
    },
    {
     "cell_type": "code",
     "collapsed": false,
     "input": [
      "assessments['Contact.ID'].nunique()"
     ],
     "language": "python",
     "metadata": {},
     "outputs": []
    },
    {
     "cell_type": "code",
     "collapsed": false,
     "input": [
      "fincap_records['Contact.ID'].nunique()"
     ],
     "language": "python",
     "metadata": {},
     "outputs": []
    },
    {
     "cell_type": "code",
     "collapsed": false,
     "input": [
      "number_assessments_per_contact = assessments.groupby('Contact.ID').size()\n",
      "contacts_with_mult_assessments = number_assessments_per_contact > 1\n",
      "contacts_where_over_1_assessment_has_goal_income = assessments.groupby('Contact.ID').apply(lambda df: df[goal_income_col_name].notnull().sum() > 1)"
     ],
     "language": "python",
     "metadata": {},
     "outputs": []
    },
    {
     "cell_type": "code",
     "collapsed": false,
     "input": [
      "contacts_with_mult_assessments.value_counts()"
     ],
     "language": "python",
     "metadata": {},
     "outputs": []
    },
    {
     "cell_type": "code",
     "collapsed": false,
     "input": [
      "contacts_where_over_1_assessment_has_goal_income.value_counts()"
     ],
     "language": "python",
     "metadata": {},
     "outputs": []
    },
    {
     "cell_type": "code",
     "collapsed": false,
     "input": [
      "fincap_participant_ids = fincap_records['Contact.ID'].unique()"
     ],
     "language": "python",
     "metadata": {},
     "outputs": []
    },
    {
     "cell_type": "code",
     "collapsed": false,
     "input": [
      "relevant_ids = set(fincap_participant_ids).intersection(set(contacts_with_mult_assessments[contacts_with_mult_assessments].index))\n",
      "len(relevant_ids)"
     ],
     "language": "python",
     "metadata": {},
     "outputs": []
    },
    {
     "cell_type": "code",
     "collapsed": false,
     "input": [
      "rel_assessments = assessments[assessments['Contact.ID'].isin(relevant_ids)]"
     ],
     "language": "python",
     "metadata": {},
     "outputs": []
    },
    {
     "cell_type": "code",
     "collapsed": false,
     "input": [
      "rel_assessments.head()"
     ],
     "language": "python",
     "metadata": {},
     "outputs": []
    },
    {
     "cell_type": "code",
     "collapsed": false,
     "input": [
      "print len(fincap_participant_ids)\n",
      "assessments[assessments['Contact.ID'].isin(fincap_participant_ids)]['Contact.ID'].nunique()"
     ],
     "language": "python",
     "metadata": {},
     "outputs": []
    },
    {
     "cell_type": "code",
     "collapsed": false,
     "input": [
      "assessments_for_fincap = assessments[assessments['Contact.ID'].isin(fincap_participant_ids)]"
     ],
     "language": "python",
     "metadata": {},
     "outputs": []
    },
    {
     "cell_type": "code",
     "collapsed": false,
     "input": [
      "mult_assessment_mask = assessments_for_fincap['Contact.ID'].isin(contacts_with_mult_assessments[contacts_with_mult_assessments].index)"
     ],
     "language": "python",
     "metadata": {},
     "outputs": []
    },
    {
     "cell_type": "code",
     "collapsed": false,
     "input": [
      "print assessments_for_fincap[mult_assessment_mask]['Contact.ID'].nunique()\n",
      "print assessments_for_fincap[-mult_assessment_mask]['Contact.ID'].nunique()"
     ],
     "language": "python",
     "metadata": {},
     "outputs": []
    },
    {
     "cell_type": "code",
     "collapsed": false,
     "input": [
      "import datetime"
     ],
     "language": "python",
     "metadata": {},
     "outputs": []
    },
    {
     "cell_type": "code",
     "collapsed": false,
     "input": [
      "import numpy as np"
     ],
     "language": "python",
     "metadata": {},
     "outputs": []
    },
    {
     "cell_type": "code",
     "collapsed": false,
     "input": [
      "import seaborn as sns\n",
      "%pylab inline"
     ],
     "language": "python",
     "metadata": {},
     "outputs": []
    },
    {
     "cell_type": "code",
     "collapsed": false,
     "input": [
      "((assessments_for_fincap[-mult_assessment_mask].assessment_date_clean - datetime.date.today())/np.timedelta64(1,'D')).hist()"
     ],
     "language": "python",
     "metadata": {},
     "outputs": []
    },
    {
     "cell_type": "code",
     "collapsed": false,
     "input": [
      "def aggregate_for_return_prediction(df):\n",
      "    first_assessment = df.loc[df['assessment_date_clean'].idxmin()]\n",
      "    return pd.DataFrame([{'has_second_assessment': len(df) > 1,\n",
      "                         'total_debt': first_assessment['Total.Debt'],\n",
      "                         'total_income' : first_assessment['Total.Income.Minus.Expenses'],\n",
      "                         'total_expenses': first_assessment['Total.Average.Monthly.Expenses'],\n",
      "                         'four_Weeks_of_Mo_Expenses_Saved': first_assessment['X4.Weeks.of.Mo.Expenses.Saved'] }])"
     ],
     "language": "python",
     "metadata": {},
     "outputs": []
    },
    {
     "cell_type": "code",
     "collapsed": false,
     "input": [
      "reshaped = assessments_for_fincap.groupby('Contact.ID').apply(aggregate_for_return_prediction).reset_index(drop=True)"
     ],
     "language": "python",
     "metadata": {},
     "outputs": []
    },
    {
     "cell_type": "code",
     "collapsed": false,
     "input": [
      "reshaped.four_Weeks_of_Mo_Expenses_Saved = reshaped.four_Weeks_of_Mo_Expenses_Saved.replace({'no expenses recorded': None,\n",
      "                                                                                             'FALSE': False,\n",
      "                                                                                             'TRUE': True})"
     ],
     "language": "python",
     "metadata": {},
     "outputs": []
    },
    {
     "cell_type": "code",
     "collapsed": false,
     "input": [
      "reshaped.head()"
     ],
     "language": "python",
     "metadata": {},
     "outputs": []
    },
    {
     "cell_type": "code",
     "collapsed": false,
     "input": [
      "stats = reshaped.groupby('has_second_assessment').median().T\n",
      "sizes = reshaped.groupby('has_second_assessment').size().T\n",
      "ax = sizes.plot(kind='bar')\n",
      "ax.set_title('How many participants have a second assessment at all?')\n"
     ],
     "language": "python",
     "metadata": {},
     "outputs": []
    },
    {
     "cell_type": "code",
     "collapsed": false,
     "input": [
      "stats = reshaped.groupby('has_second_assessment').median().T\n",
      "stats.index = [i + '_median' for i in stats.index]\n",
      "ax = stats.plot(kind='bar')\n",
      "ax.set_title('Are there differences at baseline between participants who come back for a second assessment,\\n and those who don\\'t? \\n')\n"
     ],
     "language": "python",
     "metadata": {},
     "outputs": []
    },
    {
     "cell_type": "code",
     "collapsed": false,
     "input": [
      "reshaped.four_Weeks_of_Mo_Expenses_Saved.value_counts(dropna=False)"
     ],
     "language": "python",
     "metadata": {},
     "outputs": []
    },
    {
     "cell_type": "code",
     "collapsed": false,
     "input": [
      "reshaped.has_second_assessment.value_counts(dropna=False)"
     ],
     "language": "python",
     "metadata": {},
     "outputs": []
    },
    {
     "cell_type": "code",
     "collapsed": false,
     "input": [
      "reshaped.total_debt.describe()"
     ],
     "language": "python",
     "metadata": {},
     "outputs": []
    },
    {
     "cell_type": "code",
     "collapsed": false,
     "input": [
      "reshaped.total_expenses.describe()"
     ],
     "language": "python",
     "metadata": {},
     "outputs": []
    },
    {
     "cell_type": "code",
     "collapsed": false,
     "input": [
      "reshaped.total_income.describe()"
     ],
     "language": "python",
     "metadata": {},
     "outputs": []
    },
    {
     "cell_type": "code",
     "collapsed": false,
     "input": [
      "from sklearn.linear_model import LogisticRegression"
     ],
     "language": "python",
     "metadata": {},
     "outputs": []
    },
    {
     "cell_type": "code",
     "collapsed": false,
     "input": [
      "lm = LogisticRegression()"
     ],
     "language": "python",
     "metadata": {},
     "outputs": []
    },
    {
     "cell_type": "code",
     "collapsed": false,
     "input": [
      "for_regression = reshaped.dropna(how='any')\n",
      "training_idx = np.random.choice(for_regression.index,int(.8 * len(for_regression)),replace=False)\n",
      "test_idx = [i for i in for_regression.index if i not in training_idx]"
     ],
     "language": "python",
     "metadata": {},
     "outputs": []
    },
    {
     "cell_type": "code",
     "collapsed": false,
     "input": [
      "lm = lm.fit(for_regression.loc[training_idx,[c for c in reshaped.columns if c != 'has_second_assessment']],\n",
      "            for_regression.loc[training_idx,'has_second_assessment'])"
     ],
     "language": "python",
     "metadata": {},
     "outputs": []
    },
    {
     "cell_type": "code",
     "collapsed": false,
     "input": [
      "lm.score(for_regression.loc[test_idx,[c for c in reshaped.columns if c != 'has_second_assessment']],\n",
      "         for_regression.loc[test_idx,'has_second_assessment'])"
     ],
     "language": "python",
     "metadata": {},
     "outputs": []
    },
    {
     "cell_type": "code",
     "collapsed": false,
     "input": [
      "lm.predict(for_regression.loc[test_idx,[c for c in reshaped.columns if c != 'has_second_assessment']])"
     ],
     "language": "python",
     "metadata": {},
     "outputs": []
    },
    {
     "cell_type": "code",
     "collapsed": false,
     "input": [
      "for_regression.has_second_assessment.mean()"
     ],
     "language": "python",
     "metadata": {},
     "outputs": []
    },
    {
     "cell_type": "code",
     "collapsed": false,
     "input": [
      "X_train,y_train, = [for_regression[[c for c in reshaped.columns if c != 'has_second_assessment']],\n",
      "                   for_regression['has_second_assessment']]\n",
      "                   \n",
      "    \n",
      "\n",
      "\n",
      "from sklearn.cross_validation import cross_val_score\n",
      "scores = cross_val_score(LogisticRegression(), X_train, y_train, scoring='precision', cv=10)\n",
      "print \"Cross Validation Scores for %i splits of data:\\n \" %10\n",
      "np.set_printoptions(precision=3)\n",
      "print scores\n",
      "print \"\\nMean of scores:%.3f\" %scores.mean() "
     ],
     "language": "python",
     "metadata": {},
     "outputs": []
    },
    {
     "cell_type": "code",
     "collapsed": false,
     "input": [
      "sns.corrplot(reshaped)"
     ],
     "language": "python",
     "metadata": {},
     "outputs": []
    },
    {
     "cell_type": "code",
     "collapsed": false,
     "input": [],
     "language": "python",
     "metadata": {},
     "outputs": []
    },
    {
     "cell_type": "code",
     "collapsed": false,
     "input": [],
     "language": "python",
     "metadata": {},
     "outputs": []
    },
    {
     "cell_type": "code",
     "collapsed": false,
     "input": [
      "assessments_for_fincap.head()"
     ],
     "language": "python",
     "metadata": {},
     "outputs": []
    },
    {
     "cell_type": "code",
     "collapsed": false,
     "input": [
      "assessments_for_fincap.shape"
     ],
     "language": "python",
     "metadata": {},
     "outputs": []
    },
    {
     "cell_type": "code",
     "collapsed": false,
     "input": [
      "assessments_for_fincap.columns"
     ],
     "language": "python",
     "metadata": {},
     "outputs": []
    },
    {
     "cell_type": "code",
     "collapsed": false,
     "input": [
      "(assessments_for_fincap['Real.Estate.Mortgage.balance'].fillna(0)==0).mean()"
     ],
     "language": "python",
     "metadata": {},
     "outputs": []
    },
    {
     "cell_type": "code",
     "collapsed": false,
     "input": [
      "\n",
      "\n",
      "def aggregate_assessments(df):\n",
      "    if len(df) <2:\n",
      "        return pd.DataFrame()\n",
      "    first_assessment = df.loc[df['assessment_date_clean'].idxmin()]\n",
      "    last_assessment = df.loc[df['assessment_date_clean'].idxmax()]\n",
      "    initial_mortgage = first_assessment['Real.Estate.Mortgage.balance']\n",
      "    no_mortgage_before = (pd.isnull(initial_mortgage) or initial_mortgage == 0) \n",
      "    \n",
      "    \n",
      "    final_mortgage = last_assessment['Real.Estate.Mortgage.balance']\n",
      "    has_mortgage_after = (pd.notnull(final_mortgage) and final_mortgage > 0)\n",
      "    \n",
      "    return pd.DataFrame([{'time_between_assessments': last_assessment.assessment_date_clean - first_assessment.assessment_date_clean,\n",
      "                          'debt_0': first_assessment['Total.Debt'],\n",
      "                          'debt_1': last_assessment['Total.Debt'],\n",
      "                          'expenses_0': first_assessment['Total.Average.Monthly.Expenses'],\n",
      "                          'expenses_1': last_assessment['Total.Average.Monthly.Expenses'],\n",
      "                          'total_hh_income_0': first_assessment[current_income_col_name],\n",
      "                          'total_hh_income_1': last_assessment[current_income_col_name],\n",
      "                          'goal_income_0': first_assessment[goal_income_col_name],\n",
      "                          'goal_income_1': last_assessment[goal_income_col_name],\n",
      "                          'has_mortgage_balance_after_not_before': no_mortgage_before and has_mortgage_after,\n",
      "                          'contact_id': first_assessment['Contact.ID']\n",
      "                          }])"
     ],
     "language": "python",
     "metadata": {},
     "outputs": []
    },
    {
     "cell_type": "code",
     "collapsed": false,
     "input": [],
     "language": "python",
     "metadata": {},
     "outputs": []
    },
    {
     "cell_type": "code",
     "collapsed": false,
     "input": [
      "\n",
      "# results = assessments_for_fincap.groupby('Contact.ID').apply(aggregate_assessments).reset_index(drop=True)\n",
      "results = rel_assessments.groupby('Contact.ID').apply(aggregate_assessments).reset_index(drop=True)"
     ],
     "language": "python",
     "metadata": {},
     "outputs": []
    },
    {
     "cell_type": "code",
     "collapsed": false,
     "input": [
      "for i in [0,1]:\n",
      "    results['income_above_goal_' +str(i) ] = results['total_hh_income_' + str(i)] - results['goal_income_' + str(i)]"
     ],
     "language": "python",
     "metadata": {},
     "outputs": []
    },
    {
     "cell_type": "code",
     "collapsed": false,
     "input": [
      "results.has_mortgage_balance_after_not_before.value_counts(dropna=False)"
     ],
     "language": "python",
     "metadata": {},
     "outputs": []
    },
    {
     "cell_type": "code",
     "collapsed": false,
     "input": [
      "results.head()"
     ],
     "language": "python",
     "metadata": {},
     "outputs": []
    },
    {
     "cell_type": "code",
     "collapsed": false,
     "input": [
      "col_roots = ['debt','expenses','goal_income','total_hh_income','income_above_goal']\n",
      "\n",
      "fig, axes = plt.subplots(len(col_roots),1,figsize=(10,5*len(col_roots)))\n",
      "\n",
      "for i, cr in enumerate(col_roots):\n",
      "    ax = axes[i]\n",
      "    temp_df = results[[cr+'_0',cr+'_1']].dropna(how='any')\n",
      "    sns.kdeplot(temp_df[cr+'_0'],temp_df[cr+'_1'],ax=ax)\n",
      "    ax.set_xlim( ax.get_ylim())\n",
      "plt.tight_layout()\n"
     ],
     "language": "python",
     "metadata": {},
     "outputs": []
    },
    {
     "cell_type": "code",
     "collapsed": false,
     "input": [
      "cr = 'debt'\n",
      "temp_df = results[[cr+'_0',cr+'_1']].dropna(how='any')\n",
      "temp_df.head()"
     ],
     "language": "python",
     "metadata": {},
     "outputs": []
    },
    {
     "cell_type": "code",
     "collapsed": false,
     "input": [
      "(temp_df < 1e6).mean()"
     ],
     "language": "python",
     "metadata": {},
     "outputs": []
    },
    {
     "cell_type": "code",
     "collapsed": false,
     "input": [
      "df = temp_df[(temp_df<1e6).all(axis=1)]\n",
      "ax = sns.regplot('debt_0','debt_1',df)\n",
      "sns.plt.ylim(0)\n",
      "sns.plt.xlim(0)\n",
      "ax.set_ylabel('debt at final assessment')\n",
      "ax.set_xlabel('debt at initial assessment')"
     ],
     "language": "python",
     "metadata": {},
     "outputs": []
    },
    {
     "cell_type": "code",
     "collapsed": false,
     "input": [
      "len(df)"
     ],
     "language": "python",
     "metadata": {},
     "outputs": []
    },
    {
     "cell_type": "code",
     "collapsed": false,
     "input": [
      "def get_custom_column(s):\n",
      "    return_ser = pd.Series(index=s.index)\n",
      "    return_ser.loc[s==0] = '0'\n",
      "    return_ser.loc[(s <= 2000) & (s > 0)] = '0 < debt <= 2000'\n",
      "    return_ser.loc[(s <= 4000) & (s > 2000)] = '2000 < debt <= 4000'\n",
      "    return_ser.loc[s > 4000] = '> 4000'\n",
      "    return return_ser\n",
      "    "
     ],
     "language": "python",
     "metadata": {},
     "outputs": []
    },
    {
     "cell_type": "code",
     "collapsed": false,
     "input": [
      "col_order = ['0','0 < debt <= 2000','2000 < debt <= 4000','> 4000']"
     ],
     "language": "python",
     "metadata": {},
     "outputs": []
    },
    {
     "cell_type": "code",
     "collapsed": false,
     "input": [
      "custom_d0 = get_custom_column(df.debt_0)\n",
      "ax = custom_d0.value_counts().ix[col_order].plot(kind='bar')\n",
      "ax.set_title('Debt at baseline')"
     ],
     "language": "python",
     "metadata": {},
     "outputs": []
    },
    {
     "cell_type": "code",
     "collapsed": false,
     "input": [
      "custom_d1 = get_custom_column(df.debt_1)\n",
      "ax = custom_d1.value_counts().ix[col_order].plot(kind='bar')\n",
      "ax.set_title('Debt at final assessment')"
     ],
     "language": "python",
     "metadata": {},
     "outputs": []
    },
    {
     "cell_type": "code",
     "collapsed": false,
     "input": [
      "custom_df = pd.DataFrame([custom_d0,custom_d1]).T"
     ],
     "language": "python",
     "metadata": {},
     "outputs": []
    },
    {
     "cell_type": "code",
     "collapsed": false,
     "input": [
      "custom_df.columns = ['baseline_debt','final_debt']"
     ],
     "language": "python",
     "metadata": {},
     "outputs": []
    },
    {
     "cell_type": "code",
     "collapsed": false,
     "input": [
      "ax = custom_df.groupby('baseline_debt').final_debt.value_counts().unstack().plot(kind='bar')\n",
      "ax.set_title('How did clients\\' debt change over time?')\n",
      "ax.legend(loc='upper left',title='Final Debt Amount')"
     ],
     "language": "python",
     "metadata": {},
     "outputs": []
    },
    {
     "cell_type": "code",
     "collapsed": false,
     "input": [
      "custom_df.groupby('baseline_debt').final_debt.apply(lambda x: x.isnull().sum())"
     ],
     "language": "python",
     "metadata": {},
     "outputs": []
    },
    {
     "cell_type": "code",
     "collapsed": false,
     "input": [
      "custom_df[custom_df.baseline_debt == '< 2000'].final_debt.value_counts(dropna=False)"
     ],
     "language": "python",
     "metadata": {},
     "outputs": []
    },
    {
     "cell_type": "code",
     "collapsed": false,
     "input": [
      "df.head()"
     ],
     "language": "python",
     "metadata": {},
     "outputs": []
    },
    {
     "cell_type": "code",
     "collapsed": false,
     "input": [
      "ax = df.debt_0.hist()\n",
      "\n",
      "ax.set_yscale('log', nonposy='clip' )"
     ],
     "language": "python",
     "metadata": {},
     "outputs": []
    },
    {
     "cell_type": "code",
     "collapsed": false,
     "input": [
      "ax = df.debt_1.hist()\n",
      "\n",
      "ax.set_yscale('log', nonposy='clip' )"
     ],
     "language": "python",
     "metadata": {},
     "outputs": []
    },
    {
     "cell_type": "code",
     "collapsed": false,
     "input": [
      "temp_df.isnull().sum()"
     ],
     "language": "python",
     "metadata": {},
     "outputs": []
    },
    {
     "cell_type": "code",
     "collapsed": false,
     "input": [
      "(temp_df < 0).sum()"
     ],
     "language": "python",
     "metadata": {},
     "outputs": []
    },
    {
     "cell_type": "code",
     "collapsed": false,
     "input": [
      "(temp_df['debt_1'] > temp_df['debt_0']).mean()"
     ],
     "language": "python",
     "metadata": {},
     "outputs": []
    },
    {
     "cell_type": "code",
     "collapsed": false,
     "input": [
      "temp_df['debt_1'].median()"
     ],
     "language": "python",
     "metadata": {},
     "outputs": []
    },
    {
     "cell_type": "code",
     "collapsed": false,
     "input": [
      "temp_df['debt_0'].median()"
     ],
     "language": "python",
     "metadata": {},
     "outputs": []
    },
    {
     "cell_type": "code",
     "collapsed": false,
     "input": [
      "len(temp_df)"
     ],
     "language": "python",
     "metadata": {},
     "outputs": []
    },
    {
     "cell_type": "code",
     "collapsed": false,
     "input": [
      "temp_df.head()"
     ],
     "language": "python",
     "metadata": {},
     "outputs": []
    },
    {
     "cell_type": "code",
     "collapsed": false,
     "input": [
      "vals = []\n",
      "names = []\n",
      "for cr in col_roots:\n",
      "    temp_df = results[[cr+'_0',cr+'_1']].dropna(how='any')\n",
      "    names.append(cr)\n",
      "    vals.append((temp_df[cr + '_1'] > temp_df[cr+'_0']).mean())\n",
      "s = pd.Series(data=vals,index=names)\n",
      "print s"
     ],
     "language": "python",
     "metadata": {},
     "outputs": []
    },
    {
     "cell_type": "code",
     "collapsed": false,
     "input": [
      "s.order().plot(kind='barh')"
     ],
     "language": "python",
     "metadata": {},
     "outputs": []
    },
    {
     "cell_type": "code",
     "collapsed": false,
     "input": [
      "vals = []\n",
      "idx_lv_1 = []\n",
      "idx_lv_2 = []\n",
      "for cr in col_roots:\n",
      "    temp_df = results[[cr+'_0',cr+'_1']].dropna(how='any')\n",
      "    for i in '0','1':\n",
      "        idx_lv_1.append(cr)\n",
      "        idx_lv_2.append(i)\n",
      "    \n",
      "        vals.append(temp_df[cr + '_'+i].median())\n",
      "s = pd.Series(data=vals,index=pd.MultiIndex.from_tuples(zip(idx_lv_1,idx_lv_2)))\n",
      "print s"
     ],
     "language": "python",
     "metadata": {},
     "outputs": []
    },
    {
     "cell_type": "code",
     "collapsed": false,
     "input": [],
     "language": "python",
     "metadata": {},
     "outputs": []
    },
    {
     "cell_type": "code",
     "collapsed": false,
     "input": [
      "unstacked = s.unstack()\n",
      "unstacked = unstacked.rename(columns={'0':'Initial Assessment','1':'Final Assessment'})\n",
      "ax = unstacked.plot(kind='barh')\n",
      "ax.set_xlim(-4000,5000)\n",
      "ax.legend(loc='upper left')\n"
     ],
     "language": "python",
     "metadata": {},
     "outputs": []
    },
    {
     "cell_type": "code",
     "collapsed": false,
     "input": [],
     "language": "python",
     "metadata": {},
     "outputs": []
    },
    {
     "cell_type": "code",
     "collapsed": false,
     "input": [],
     "language": "python",
     "metadata": {},
     "outputs": []
    }
   ],
   "metadata": {}
  }
 ]
}
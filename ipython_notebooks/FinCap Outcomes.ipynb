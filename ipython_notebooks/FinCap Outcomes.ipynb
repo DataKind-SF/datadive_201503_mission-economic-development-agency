{
 "metadata": {
  "name": "",
  "signature": "sha256:1f48e0a31a73b320ad7da6e45a6aaba24a9c952329dcac0d3cd451aaf6520c45"
 },
 "nbformat": 3,
 "nbformat_minor": 0,
 "worksheets": [
  {
   "cells": [
    {
     "cell_type": "markdown",
     "metadata": {},
     "source": [
      "Findings:\n",
      "\n",
      "    * Of ~3000 fincap participants, we only have any assessment data for 885 of them. We don't know why -- might be worth followup analysis for demographic predictors.\n",
      "    * of those 885, we have multiple assessments for 653\n",
      "    * Some of this is because the first assessment was recently, but there are also older assessments without followups.\n",
      "    * We looked at the differences between assessments with followups and assessments without, but we were not able to predict which clients would come back for a followup assessment. This is a good thing -- it means that (until disproven) we will assume that the clients with followup are a representative sample of all the clients in the program."
     ]
    },
    {
     "cell_type": "code",
     "collapsed": false,
     "input": [
      "import pandas as pd\n",
      "import os"
     ],
     "language": "python",
     "metadata": {},
     "outputs": [],
     "prompt_number": 2
    },
    {
     "cell_type": "code",
     "collapsed": false,
     "input": [
      "filepath = os.path.expanduser('/Users/louispotok/Dropbox/DataDive_MEDA/DataKind_DataDive_MEDA_032715_v2_2015-03-27_clean_09_FINCAP_Case_Records.csv')"
     ],
     "language": "python",
     "metadata": {},
     "outputs": [],
     "prompt_number": 3
    },
    {
     "cell_type": "code",
     "collapsed": false,
     "input": [
      "fincap_records = pd.read_csv(filepath)"
     ],
     "language": "python",
     "metadata": {},
     "outputs": [],
     "prompt_number": 4
    },
    {
     "cell_type": "code",
     "collapsed": false,
     "input": [
      "filepath = '~/Dropbox/DataDive_MEDA/DataKind_DataDive_MEDA_032715_v2_2015-03-27_clean_04_Universal_Financial_Assessments.csv'\n",
      "assessments = pd.read_csv(os.path.expanduser(filepath))\n",
      "assessments['assessment_date_clean'] = pd.to_datetime(assessments['Assessment.Date'])\n",
      "#0\n",
      "current_income_col_name = 'Grand.Total.Household.Monthly.Income'\n",
      "goal_income_col_name = 'MONTHLY.Self.Sufficiency.Income.Desired'\n",
      "\n"
     ],
     "language": "python",
     "metadata": {},
     "outputs": [],
     "prompt_number": 5
    },
    {
     "cell_type": "code",
     "collapsed": false,
     "input": [
      "#1. Clients with only one assessment\n",
      "number_assessments_per_client = assessments.groupby('Contact.ID').size()\n",
      "clients_with_multiple_assessments = number_assessments_per_client[number_assessments_per_client > 1].index\n",
      "df = assessments[assessments['Contact.ID'].isin(clients_with_multiple_assessments)]\n"
     ],
     "language": "python",
     "metadata": {},
     "outputs": [],
     "prompt_number": 6
    },
    {
     "cell_type": "code",
     "collapsed": false,
     "input": [
      "assessments['Contact.ID'].nunique()"
     ],
     "language": "python",
     "metadata": {},
     "outputs": [
      {
       "metadata": {},
       "output_type": "pyout",
       "prompt_number": 7,
       "text": [
        "1783"
       ]
      }
     ],
     "prompt_number": 7
    },
    {
     "cell_type": "code",
     "collapsed": false,
     "input": [
      "fincap_records['Contact.ID'].nunique()"
     ],
     "language": "python",
     "metadata": {},
     "outputs": [
      {
       "metadata": {},
       "output_type": "pyout",
       "prompt_number": 8,
       "text": [
        "3097"
       ]
      }
     ],
     "prompt_number": 8
    },
    {
     "cell_type": "code",
     "collapsed": false,
     "input": [
      "number_assessments_per_contact = assessments.groupby('Contact.ID').size()\n",
      "contacts_with_mult_assessments = number_assessments_per_contact > 1\n",
      "contacts_where_over_1_assessment_has_goal_income = assessments.groupby('Contact.ID').apply(lambda df: df[goal_income_col_name].notnull().sum() > 1)"
     ],
     "language": "python",
     "metadata": {},
     "outputs": [],
     "prompt_number": 9
    },
    {
     "cell_type": "code",
     "collapsed": false,
     "input": [
      "contacts_with_mult_assessments.value_counts()"
     ],
     "language": "python",
     "metadata": {},
     "outputs": [
      {
       "metadata": {},
       "output_type": "pyout",
       "prompt_number": 10,
       "text": [
        "True     1056\n",
        "False     727\n",
        "dtype: int64"
       ]
      }
     ],
     "prompt_number": 10
    },
    {
     "cell_type": "code",
     "collapsed": false,
     "input": [
      "contacts_where_over_1_assessment_has_goal_income.value_counts()"
     ],
     "language": "python",
     "metadata": {},
     "outputs": [
      {
       "metadata": {},
       "output_type": "pyout",
       "prompt_number": 11,
       "text": [
        "False    1537\n",
        "True      246\n",
        "dtype: int64"
       ]
      }
     ],
     "prompt_number": 11
    },
    {
     "cell_type": "code",
     "collapsed": false,
     "input": [
      "fincap_participant_ids = fincap_records['Contact.ID'].unique()"
     ],
     "language": "python",
     "metadata": {},
     "outputs": [],
     "prompt_number": 12
    },
    {
     "cell_type": "code",
     "collapsed": false,
     "input": [
      "relevant_ids = set(fincap_participant_ids).intersection(set(contacts_with_mult_assessments[contacts_with_mult_assessments].index))\n",
      "len(relevant_ids)"
     ],
     "language": "python",
     "metadata": {},
     "outputs": [
      {
       "metadata": {},
       "output_type": "pyout",
       "prompt_number": 13,
       "text": [
        "653"
       ]
      }
     ],
     "prompt_number": 13
    },
    {
     "cell_type": "code",
     "collapsed": false,
     "input": [
      "rel_assessments = assessments[assessments['Contact.ID'].isin(relevant_ids)]"
     ],
     "language": "python",
     "metadata": {},
     "outputs": [],
     "prompt_number": 14
    },
    {
     "cell_type": "code",
     "collapsed": false,
     "input": [
      "rel_assessments.head()"
     ],
     "language": "python",
     "metadata": {},
     "outputs": [
      {
       "html": [
        "<div style=\"max-height:1000px;max-width:1500px;overflow:auto;\">\n",
        "<table border=\"1\" class=\"dataframe\">\n",
        "  <thead>\n",
        "    <tr style=\"text-align: right;\">\n",
        "      <th></th>\n",
        "      <th>Contact.ID</th>\n",
        "      <th>Case.Record.Easy.ID</th>\n",
        "      <th>X.Change.to.Debt.from.Baseline</th>\n",
        "      <th>X.Change.to.HH.Income.from.Baseline</th>\n",
        "      <th>X4.Weeks.of.Mo.Expenses.Saved</th>\n",
        "      <th>Greatest.Credit.Gain.Value.de.Baseline</th>\n",
        "      <th>Collections.Debt.Total.Balance</th>\n",
        "      <th>Grand.Total.Household.Monthly.Income</th>\n",
        "      <th>Total.value.of.Assets</th>\n",
        "      <th>Equifax.score</th>\n",
        "      <th>...</th>\n",
        "      <th>Collections.Utilities</th>\n",
        "      <th>Collections.Unsecured.Debt</th>\n",
        "      <th>Public.Records.Debt.Bal</th>\n",
        "      <th>Total.Debt</th>\n",
        "      <th>Total.MMDP</th>\n",
        "      <th>Assessed.By</th>\n",
        "      <th>Completeness.Score</th>\n",
        "      <th>Back.end.DTI.debt.to.income.ratio</th>\n",
        "      <th>Total.Income.Minus.Expenses</th>\n",
        "      <th>assessment_date_clean</th>\n",
        "    </tr>\n",
        "  </thead>\n",
        "  <tbody>\n",
        "    <tr>\n",
        "      <th>1 </th>\n",
        "      <td> 18878</td>\n",
        "      <td> CR-20649</td>\n",
        "      <td> 0</td>\n",
        "      <td> 0</td>\n",
        "      <td> no expenses recorded</td>\n",
        "      <td> 0</td>\n",
        "      <td>     0</td>\n",
        "      <td>   1100</td>\n",
        "      <td>     0</td>\n",
        "      <td> NaN</td>\n",
        "      <td>...</td>\n",
        "      <td>NaN</td>\n",
        "      <td>  NaN</td>\n",
        "      <td>    0</td>\n",
        "      <td>      0</td>\n",
        "      <td>     0</td>\n",
        "      <td>                NaN</td>\n",
        "      <td> 1</td>\n",
        "      <td>NaN</td>\n",
        "      <td>   1100</td>\n",
        "      <td>2011-03-09</td>\n",
        "    </tr>\n",
        "    <tr>\n",
        "      <th>4 </th>\n",
        "      <td> 16472</td>\n",
        "      <td> CR-11492</td>\n",
        "      <td> 0</td>\n",
        "      <td> 0</td>\n",
        "      <td>                 TRUE</td>\n",
        "      <td> 0</td>\n",
        "      <td>     0</td>\n",
        "      <td>      0</td>\n",
        "      <td> 25000</td>\n",
        "      <td> NaN</td>\n",
        "      <td>...</td>\n",
        "      <td>  0</td>\n",
        "      <td>    0</td>\n",
        "      <td> 2600</td>\n",
        "      <td> 501098</td>\n",
        "      <td> 22383</td>\n",
        "      <td>                NaN</td>\n",
        "      <td> 4</td>\n",
        "      <td>NaN</td>\n",
        "      <td>  -2572</td>\n",
        "      <td>2011-04-26</td>\n",
        "    </tr>\n",
        "    <tr>\n",
        "      <th>5 </th>\n",
        "      <td> 18735</td>\n",
        "      <td> CR-11438</td>\n",
        "      <td> 0</td>\n",
        "      <td> 0</td>\n",
        "      <td> no expenses recorded</td>\n",
        "      <td> 0</td>\n",
        "      <td>     0</td>\n",
        "      <td> 109000</td>\n",
        "      <td>     0</td>\n",
        "      <td> 697</td>\n",
        "      <td>...</td>\n",
        "      <td>  0</td>\n",
        "      <td>    0</td>\n",
        "      <td> 3120</td>\n",
        "      <td>  23545</td>\n",
        "      <td>   402</td>\n",
        "      <td>                NaN</td>\n",
        "      <td> 3</td>\n",
        "      <td>NaN</td>\n",
        "      <td> 109000</td>\n",
        "      <td>2011-05-02</td>\n",
        "    </tr>\n",
        "    <tr>\n",
        "      <th>7 </th>\n",
        "      <td>  7769</td>\n",
        "      <td> CR-11255</td>\n",
        "      <td> 0</td>\n",
        "      <td> 0</td>\n",
        "      <td> no expenses recorded</td>\n",
        "      <td> 0</td>\n",
        "      <td>     0</td>\n",
        "      <td>   1166</td>\n",
        "      <td>     0</td>\n",
        "      <td> NaN</td>\n",
        "      <td>...</td>\n",
        "      <td>NaN</td>\n",
        "      <td>  NaN</td>\n",
        "      <td>    0</td>\n",
        "      <td>      0</td>\n",
        "      <td>     0</td>\n",
        "      <td>                NaN</td>\n",
        "      <td> 1</td>\n",
        "      <td>NaN</td>\n",
        "      <td>   1166</td>\n",
        "      <td>2011-05-17</td>\n",
        "    </tr>\n",
        "    <tr>\n",
        "      <th>10</th>\n",
        "      <td> 14371</td>\n",
        "      <td> CR-10048</td>\n",
        "      <td> 0</td>\n",
        "      <td> 0</td>\n",
        "      <td> no expenses recorded</td>\n",
        "      <td> 0</td>\n",
        "      <td> 14441</td>\n",
        "      <td>   2500</td>\n",
        "      <td>     0</td>\n",
        "      <td> NaN</td>\n",
        "      <td>...</td>\n",
        "      <td>  0</td>\n",
        "      <td> 8220</td>\n",
        "      <td>    0</td>\n",
        "      <td>  37712</td>\n",
        "      <td>  2218</td>\n",
        "      <td> Michelle Reiss-Top</td>\n",
        "      <td> 3</td>\n",
        "      <td>NaN</td>\n",
        "      <td>   2500</td>\n",
        "      <td>2011-09-13</td>\n",
        "    </tr>\n",
        "  </tbody>\n",
        "</table>\n",
        "<p>5 rows \u00d7 82 columns</p>\n",
        "</div>"
       ],
       "metadata": {},
       "output_type": "pyout",
       "prompt_number": 15,
       "text": [
        "    Contact.ID Case.Record.Easy.ID X.Change.to.Debt.from.Baseline  \\\n",
        "1        18878            CR-20649                              0   \n",
        "4        16472            CR-11492                              0   \n",
        "5        18735            CR-11438                              0   \n",
        "7         7769            CR-11255                              0   \n",
        "10       14371            CR-10048                              0   \n",
        "\n",
        "   X.Change.to.HH.Income.from.Baseline X4.Weeks.of.Mo.Expenses.Saved  \\\n",
        "1                                    0          no expenses recorded   \n",
        "4                                    0                          TRUE   \n",
        "5                                    0          no expenses recorded   \n",
        "7                                    0          no expenses recorded   \n",
        "10                                   0          no expenses recorded   \n",
        "\n",
        "    Greatest.Credit.Gain.Value.de.Baseline  Collections.Debt.Total.Balance  \\\n",
        "1                                        0                               0   \n",
        "4                                        0                               0   \n",
        "5                                        0                               0   \n",
        "7                                        0                               0   \n",
        "10                                       0                           14441   \n",
        "\n",
        "    Grand.Total.Household.Monthly.Income  Total.value.of.Assets  \\\n",
        "1                                   1100                      0   \n",
        "4                                      0                  25000   \n",
        "5                                 109000                      0   \n",
        "7                                   1166                      0   \n",
        "10                                  2500                      0   \n",
        "\n",
        "    Equifax.score      ...        Collections.Utilities  \\\n",
        "1             NaN      ...                          NaN   \n",
        "4             NaN      ...                            0   \n",
        "5             697      ...                            0   \n",
        "7             NaN      ...                          NaN   \n",
        "10            NaN      ...                            0   \n",
        "\n",
        "    Collections.Unsecured.Debt Public.Records.Debt.Bal Total.Debt Total.MMDP  \\\n",
        "1                          NaN                       0          0          0   \n",
        "4                            0                    2600     501098      22383   \n",
        "5                            0                    3120      23545        402   \n",
        "7                          NaN                       0          0          0   \n",
        "10                        8220                       0      37712       2218   \n",
        "\n",
        "           Assessed.By Completeness.Score  Back.end.DTI.debt.to.income.ratio  \\\n",
        "1                  NaN                  1                                NaN   \n",
        "4                  NaN                  4                                NaN   \n",
        "5                  NaN                  3                                NaN   \n",
        "7                  NaN                  1                                NaN   \n",
        "10  Michelle Reiss-Top                  3                                NaN   \n",
        "\n",
        "   Total.Income.Minus.Expenses assessment_date_clean  \n",
        "1                         1100            2011-03-09  \n",
        "4                        -2572            2011-04-26  \n",
        "5                       109000            2011-05-02  \n",
        "7                         1166            2011-05-17  \n",
        "10                        2500            2011-09-13  \n",
        "\n",
        "[5 rows x 82 columns]"
       ]
      }
     ],
     "prompt_number": 15
    },
    {
     "cell_type": "code",
     "collapsed": false,
     "input": [
      "print len(fincap_participant_ids)\n",
      "assessments[assessments['Contact.ID'].isin(fincap_participant_ids)]['Contact.ID'].nunique()"
     ],
     "language": "python",
     "metadata": {},
     "outputs": [
      {
       "output_type": "stream",
       "stream": "stdout",
       "text": [
        "3097\n"
       ]
      },
      {
       "metadata": {},
       "output_type": "pyout",
       "prompt_number": 16,
       "text": [
        "885"
       ]
      }
     ],
     "prompt_number": 16
    },
    {
     "cell_type": "code",
     "collapsed": false,
     "input": [
      "assessments_for_fincap = assessments[assessments['Contact.ID'].isin(fincap_participant_ids)]"
     ],
     "language": "python",
     "metadata": {},
     "outputs": [],
     "prompt_number": 17
    },
    {
     "cell_type": "code",
     "collapsed": false,
     "input": [
      "mult_assessment_mask = assessments_for_fincap['Contact.ID'].isin(contacts_with_mult_assessments[contacts_with_mult_assessments].index)"
     ],
     "language": "python",
     "metadata": {},
     "outputs": [],
     "prompt_number": 18
    },
    {
     "cell_type": "code",
     "collapsed": false,
     "input": [
      "print assessments_for_fincap[mult_assessment_mask]['Contact.ID'].nunique()\n",
      "print assessments_for_fincap[-mult_assessment_mask]['Contact.ID'].nunique()"
     ],
     "language": "python",
     "metadata": {},
     "outputs": [
      {
       "output_type": "stream",
       "stream": "stdout",
       "text": [
        "653\n",
        "232\n"
       ]
      }
     ],
     "prompt_number": 19
    },
    {
     "cell_type": "code",
     "collapsed": false,
     "input": [
      "import datetime"
     ],
     "language": "python",
     "metadata": {},
     "outputs": [],
     "prompt_number": 20
    },
    {
     "cell_type": "code",
     "collapsed": false,
     "input": [
      "import numpy as np"
     ],
     "language": "python",
     "metadata": {},
     "outputs": [],
     "prompt_number": 21
    },
    {
     "cell_type": "code",
     "collapsed": false,
     "input": [
      "import seaborn as sns\n",
      "%pylab inline"
     ],
     "language": "python",
     "metadata": {},
     "outputs": [
      {
       "output_type": "stream",
       "stream": "stdout",
       "text": [
        "Populating the interactive namespace from numpy and matplotlib\n"
       ]
      }
     ],
     "prompt_number": 22
    },
    {
     "cell_type": "code",
     "collapsed": false,
     "input": [
      "((assessments_for_fincap[-mult_assessment_mask].assessment_date_clean - datetime.date.today())/np.timedelta64(1,'D')).hist()"
     ],
     "language": "python",
     "metadata": {},
     "outputs": [
      {
       "metadata": {},
       "output_type": "pyout",
       "prompt_number": 23,
       "text": [
        "<matplotlib.axes.AxesSubplot at 0x10c48ed50>"
       ]
      },
      {
       "metadata": {},
       "output_type": "display_data",
       "png": "[encoded data removed]",
       "text": [
        "<matplotlib.figure.Figure at 0x10c48e7d0>"
       ]
      }
     ],
     "prompt_number": 23
    },
    {
     "cell_type": "code",
     "collapsed": false,
     "input": [
      "def aggregate_for_return_prediction(df):\n",
      "    first_assessment = df.loc[df['assessment_date_clean'].idxmin()]\n",
      "    return pd.DataFrame([{'has_second_assessment': len(df) > 1,\n",
      "                         'total_debt': first_assessment['Total.Debt'],\n",
      "                         'total_income' : first_assessment['Total.Income.Minus.Expenses'],\n",
      "                         'total_expenses': first_assessment['Total.Average.Monthly.Expenses'],\n",
      "                         'four_Weeks_of_Mo_Expenses_Saved': first_assessment['X4.Weeks.of.Mo.Expenses.Saved'] }])"
     ],
     "language": "python",
     "metadata": {},
     "outputs": [],
     "prompt_number": 24
    },
    {
     "cell_type": "code",
     "collapsed": false,
     "input": [
      "reshaped = assessments_for_fincap.groupby('Contact.ID').apply(aggregate_for_return_prediction).reset_index(drop=True)"
     ],
     "language": "python",
     "metadata": {},
     "outputs": [],
     "prompt_number": 25
    },
    {
     "cell_type": "code",
     "collapsed": false,
     "input": [
      "reshaped.four_Weeks_of_Mo_Expenses_Saved = reshaped.four_Weeks_of_Mo_Expenses_Saved.replace({'no expenses recorded': None,\n",
      "                                                                                             'FALSE': False,\n",
      "                                                                                             'TRUE': True})"
     ],
     "language": "python",
     "metadata": {},
     "outputs": [],
     "prompt_number": 26
    },
    {
     "cell_type": "code",
     "collapsed": false,
     "input": [
      "reshaped.head()"
     ],
     "language": "python",
     "metadata": {},
     "outputs": [
      {
       "html": [
        "<div style=\"max-height:1000px;max-width:1500px;overflow:auto;\">\n",
        "<table border=\"1\" class=\"dataframe\">\n",
        "  <thead>\n",
        "    <tr style=\"text-align: right;\">\n",
        "      <th></th>\n",
        "      <th>four_Weeks_of_Mo_Expenses_Saved</th>\n",
        "      <th>has_second_assessment</th>\n",
        "      <th>total_debt</th>\n",
        "      <th>total_expenses</th>\n",
        "      <th>total_income</th>\n",
        "    </tr>\n",
        "  </thead>\n",
        "  <tbody>\n",
        "    <tr>\n",
        "      <th>0</th>\n",
        "      <td> False</td>\n",
        "      <td> False</td>\n",
        "      <td>   4397</td>\n",
        "      <td> 7477</td>\n",
        "      <td>-1861</td>\n",
        "    </tr>\n",
        "    <tr>\n",
        "      <th>1</th>\n",
        "      <td> False</td>\n",
        "      <td>  True</td>\n",
        "      <td>  56910</td>\n",
        "      <td> 2555</td>\n",
        "      <td>  445</td>\n",
        "    </tr>\n",
        "    <tr>\n",
        "      <th>2</th>\n",
        "      <td>  True</td>\n",
        "      <td>  True</td>\n",
        "      <td> 205798</td>\n",
        "      <td> 5530</td>\n",
        "      <td>-1530</td>\n",
        "    </tr>\n",
        "    <tr>\n",
        "      <th>3</th>\n",
        "      <td>   NaN</td>\n",
        "      <td>  True</td>\n",
        "      <td>      0</td>\n",
        "      <td>    0</td>\n",
        "      <td>    0</td>\n",
        "    </tr>\n",
        "    <tr>\n",
        "      <th>4</th>\n",
        "      <td>  True</td>\n",
        "      <td>  True</td>\n",
        "      <td>      0</td>\n",
        "      <td> 2560</td>\n",
        "      <td> 1440</td>\n",
        "    </tr>\n",
        "  </tbody>\n",
        "</table>\n",
        "</div>"
       ],
       "metadata": {},
       "output_type": "pyout",
       "prompt_number": 27,
       "text": [
        "  four_Weeks_of_Mo_Expenses_Saved has_second_assessment  total_debt  \\\n",
        "0                           False                 False        4397   \n",
        "1                           False                  True       56910   \n",
        "2                            True                  True      205798   \n",
        "3                             NaN                  True           0   \n",
        "4                            True                  True           0   \n",
        "\n",
        "   total_expenses  total_income  \n",
        "0            7477         -1861  \n",
        "1            2555           445  \n",
        "2            5530         -1530  \n",
        "3               0             0  \n",
        "4            2560          1440  "
       ]
      }
     ],
     "prompt_number": 27
    },
    {
     "cell_type": "code",
     "collapsed": false,
     "input": [
      "reshaped.four_Weeks_of_Mo_Expenses_Saved.value_counts(dropna=False)"
     ],
     "language": "python",
     "metadata": {},
     "outputs": [
      {
       "metadata": {},
       "output_type": "pyout",
       "prompt_number": 28,
       "text": [
        "False    431\n",
        "True     289\n",
        "NaN      165\n",
        "dtype: int64"
       ]
      }
     ],
     "prompt_number": 28
    },
    {
     "cell_type": "code",
     "collapsed": false,
     "input": [
      "reshaped.has_second_assessment.value_counts(dropna=False)"
     ],
     "language": "python",
     "metadata": {},
     "outputs": [
      {
       "metadata": {},
       "output_type": "pyout",
       "prompt_number": 29,
       "text": [
        "True     653\n",
        "False    232\n",
        "NaN        0\n",
        "dtype: int64"
       ]
      }
     ],
     "prompt_number": 29
    },
    {
     "cell_type": "code",
     "collapsed": false,
     "input": [
      "reshaped.total_debt.describe()"
     ],
     "language": "python",
     "metadata": {},
     "outputs": [
      {
       "metadata": {},
       "output_type": "pyout",
       "prompt_number": 30,
       "text": [
        "count         885.000000\n",
        "mean        68457.401153\n",
        "std        454257.277383\n",
        "min             0.000000\n",
        "25%             0.000000\n",
        "50%          1395.000000\n",
        "75%         17064.000000\n",
        "max      11716996.000000\n",
        "dtype: float64"
       ]
      }
     ],
     "prompt_number": 30
    },
    {
     "cell_type": "code",
     "collapsed": false,
     "input": [
      "reshaped.total_expenses.describe()"
     ],
     "language": "python",
     "metadata": {},
     "outputs": [
      {
       "metadata": {},
       "output_type": "pyout",
       "prompt_number": 31,
       "text": [
        "count      885.000000\n",
        "mean      1816.779921\n",
        "std       1697.787432\n",
        "min          0.000000\n",
        "25%        670.000000\n",
        "50%       1536.000000\n",
        "75%       2630.000000\n",
        "max      16280.000000\n",
        "dtype: float64"
       ]
      }
     ],
     "prompt_number": 31
    },
    {
     "cell_type": "code",
     "collapsed": false,
     "input": [
      "reshaped.total_income.describe()"
     ],
     "language": "python",
     "metadata": {},
     "outputs": [
      {
       "metadata": {},
       "output_type": "pyout",
       "prompt_number": 32,
       "text": [
        "count       885.000000\n",
        "mean       1035.229492\n",
        "std        5562.407058\n",
        "min      -10735.000000\n",
        "25%           0.000000\n",
        "50%         256.000000\n",
        "75%        1112.330000\n",
        "max      109000.000000\n",
        "dtype: float64"
       ]
      }
     ],
     "prompt_number": 32
    },
    {
     "cell_type": "code",
     "collapsed": false,
     "input": [
      "from sklearn.linear_model import LogisticRegression"
     ],
     "language": "python",
     "metadata": {},
     "outputs": [],
     "prompt_number": 33
    },
    {
     "cell_type": "code",
     "collapsed": false,
     "input": [
      "lm = LogisticRegression()"
     ],
     "language": "python",
     "metadata": {},
     "outputs": [],
     "prompt_number": 34
    },
    {
     "cell_type": "code",
     "collapsed": false,
     "input": [
      "for_regression = reshaped.dropna(how='any')\n",
      "training_idx = np.random.choice(for_regression.index,int(.8 * len(for_regression)),replace=False)\n",
      "test_idx = [i for i in for_regression.index if i not in training_idx]"
     ],
     "language": "python",
     "metadata": {},
     "outputs": [],
     "prompt_number": 35
    },
    {
     "cell_type": "code",
     "collapsed": false,
     "input": [
      "lm = lm.fit(for_regression.loc[training_idx,[c for c in reshaped.columns if c != 'has_second_assessment']],\n",
      "            for_regression.loc[training_idx,'has_second_assessment'])"
     ],
     "language": "python",
     "metadata": {},
     "outputs": [],
     "prompt_number": 36
    },
    {
     "cell_type": "code",
     "collapsed": false,
     "input": [
      "lm.score(for_regression.loc[test_idx,[c for c in reshaped.columns if c != 'has_second_assessment']],\n",
      "         for_regression.loc[test_idx,'has_second_assessment'])"
     ],
     "language": "python",
     "metadata": {},
     "outputs": [
      {
       "metadata": {},
       "output_type": "pyout",
       "prompt_number": 37,
       "text": [
        "0.75694444444444442"
       ]
      }
     ],
     "prompt_number": 37
    },
    {
     "cell_type": "code",
     "collapsed": false,
     "input": [
      "lm.predict(for_regression.loc[test_idx,[c for c in reshaped.columns if c != 'has_second_assessment']])"
     ],
     "language": "python",
     "metadata": {},
     "outputs": [
      {
       "metadata": {},
       "output_type": "pyout",
       "prompt_number": 38,
       "text": [
        "array([ True,  True,  True,  True,  True,  True,  True,  True,  True,\n",
        "        True,  True,  True,  True,  True,  True,  True,  True,  True,\n",
        "        True,  True,  True,  True,  True,  True,  True,  True,  True,\n",
        "        True,  True,  True,  True,  True,  True,  True,  True,  True,\n",
        "        True,  True,  True,  True,  True,  True,  True,  True,  True,\n",
        "        True,  True,  True,  True,  True,  True,  True,  True,  True,\n",
        "        True,  True,  True,  True,  True,  True,  True,  True,  True,\n",
        "        True,  True,  True,  True,  True,  True,  True,  True,  True,\n",
        "        True,  True,  True,  True,  True,  True,  True,  True,  True,\n",
        "        True,  True,  True,  True,  True,  True,  True,  True,  True,\n",
        "        True,  True,  True,  True,  True,  True,  True,  True,  True,\n",
        "        True,  True,  True,  True,  True,  True,  True,  True,  True,\n",
        "        True,  True,  True,  True,  True,  True,  True,  True,  True,\n",
        "        True,  True,  True,  True,  True,  True,  True,  True,  True,\n",
        "        True,  True,  True,  True,  True,  True,  True,  True,  True,\n",
        "        True,  True,  True,  True,  True,  True,  True,  True,  True], dtype=bool)"
       ]
      }
     ],
     "prompt_number": 38
    },
    {
     "cell_type": "code",
     "collapsed": false,
     "input": [
      "for_regression.has_second_assessment.mean()"
     ],
     "language": "python",
     "metadata": {},
     "outputs": [
      {
       "metadata": {},
       "output_type": "pyout",
       "prompt_number": 39,
       "text": [
        "0.77638888888888891"
       ]
      }
     ],
     "prompt_number": 39
    },
    {
     "cell_type": "code",
     "collapsed": false,
     "input": [
      "X_train,y_train, = [for_regression[[c for c in reshaped.columns if c != 'has_second_assessment']],\n",
      "                   for_regression['has_second_assessment']]\n",
      "                   \n",
      "    \n",
      "\n",
      "\n",
      "from sklearn.cross_validation import cross_val_score\n",
      "scores = cross_val_score(LogisticRegression(), X_train, y_train, scoring='precision', cv=10)\n",
      "print \"Cross Validation Scores for %i splits of data:\\n \" %10\n",
      "np.set_printoptions(precision=3)\n",
      "print scores\n",
      "print \"\\nMean of scores:%.3f\" %scores.mean() "
     ],
     "language": "python",
     "metadata": {},
     "outputs": [
      {
       "output_type": "stream",
       "stream": "stdout",
       "text": [
        "Cross Validation Scores for 10 splits of data:\n",
        " \n",
        "[ 0.767  0.778  0.778  0.778  0.778  0.778  0.778  0.778  0.778  0.775]\n",
        "\n",
        "Mean of scores:0.776\n"
       ]
      }
     ],
     "prompt_number": 40
    },
    {
     "cell_type": "code",
     "collapsed": false,
     "input": [
      "sns.corrplot(reshaped)"
     ],
     "language": "python",
     "metadata": {},
     "outputs": [
      {
       "metadata": {},
       "output_type": "pyout",
       "prompt_number": 41,
       "text": [
        "<matplotlib.axes.AxesSubplot at 0x10c934e90>"
       ]
      },
      {
       "metadata": {},
       "output_type": "display_data",
       "png": "[encoded data removed]",
       "text": [
        "<matplotlib.figure.Figure at 0x10c929f50>"
       ]
      }
     ],
     "prompt_number": 41
    },
    {
     "cell_type": "code",
     "collapsed": false,
     "input": [],
     "language": "python",
     "metadata": {},
     "outputs": [],
     "prompt_number": 41
    },
    {
     "cell_type": "code",
     "collapsed": false,
     "input": [],
     "language": "python",
     "metadata": {},
     "outputs": [],
     "prompt_number": 41
    },
    {
     "cell_type": "code",
     "collapsed": false,
     "input": [
      "assessments_for_fincap.head()"
     ],
     "language": "python",
     "metadata": {},
     "outputs": [
      {
       "html": [
        "<div style=\"max-height:1000px;max-width:1500px;overflow:auto;\">\n",
        "<table border=\"1\" class=\"dataframe\">\n",
        "  <thead>\n",
        "    <tr style=\"text-align: right;\">\n",
        "      <th></th>\n",
        "      <th>Contact.ID</th>\n",
        "      <th>Case.Record.Easy.ID</th>\n",
        "      <th>X.Change.to.Debt.from.Baseline</th>\n",
        "      <th>X.Change.to.HH.Income.from.Baseline</th>\n",
        "      <th>X4.Weeks.of.Mo.Expenses.Saved</th>\n",
        "      <th>Greatest.Credit.Gain.Value.de.Baseline</th>\n",
        "      <th>Collections.Debt.Total.Balance</th>\n",
        "      <th>Grand.Total.Household.Monthly.Income</th>\n",
        "      <th>Total.value.of.Assets</th>\n",
        "      <th>Equifax.score</th>\n",
        "      <th>...</th>\n",
        "      <th>Collections.Utilities</th>\n",
        "      <th>Collections.Unsecured.Debt</th>\n",
        "      <th>Public.Records.Debt.Bal</th>\n",
        "      <th>Total.Debt</th>\n",
        "      <th>Total.MMDP</th>\n",
        "      <th>Assessed.By</th>\n",
        "      <th>Completeness.Score</th>\n",
        "      <th>Back.end.DTI.debt.to.income.ratio</th>\n",
        "      <th>Total.Income.Minus.Expenses</th>\n",
        "      <th>assessment_date_clean</th>\n",
        "    </tr>\n",
        "  </thead>\n",
        "  <tbody>\n",
        "    <tr>\n",
        "      <th>1</th>\n",
        "      <td> 18878</td>\n",
        "      <td> CR-20649</td>\n",
        "      <td> 0</td>\n",
        "      <td> 0</td>\n",
        "      <td> no expenses recorded</td>\n",
        "      <td> 0</td>\n",
        "      <td> 0</td>\n",
        "      <td>   1100</td>\n",
        "      <td>     0</td>\n",
        "      <td> NaN</td>\n",
        "      <td>...</td>\n",
        "      <td>NaN</td>\n",
        "      <td>NaN</td>\n",
        "      <td>    0</td>\n",
        "      <td>      0</td>\n",
        "      <td>     0</td>\n",
        "      <td> NaN</td>\n",
        "      <td> 1</td>\n",
        "      <td>NaN</td>\n",
        "      <td>   1100</td>\n",
        "      <td>2011-03-09</td>\n",
        "    </tr>\n",
        "    <tr>\n",
        "      <th>4</th>\n",
        "      <td> 16472</td>\n",
        "      <td> CR-11492</td>\n",
        "      <td> 0</td>\n",
        "      <td> 0</td>\n",
        "      <td>                 TRUE</td>\n",
        "      <td> 0</td>\n",
        "      <td> 0</td>\n",
        "      <td>      0</td>\n",
        "      <td> 25000</td>\n",
        "      <td> NaN</td>\n",
        "      <td>...</td>\n",
        "      <td>  0</td>\n",
        "      <td>  0</td>\n",
        "      <td> 2600</td>\n",
        "      <td> 501098</td>\n",
        "      <td> 22383</td>\n",
        "      <td> NaN</td>\n",
        "      <td> 4</td>\n",
        "      <td>NaN</td>\n",
        "      <td>  -2572</td>\n",
        "      <td>2011-04-26</td>\n",
        "    </tr>\n",
        "    <tr>\n",
        "      <th>5</th>\n",
        "      <td> 18735</td>\n",
        "      <td> CR-11438</td>\n",
        "      <td> 0</td>\n",
        "      <td> 0</td>\n",
        "      <td> no expenses recorded</td>\n",
        "      <td> 0</td>\n",
        "      <td> 0</td>\n",
        "      <td> 109000</td>\n",
        "      <td>     0</td>\n",
        "      <td> 697</td>\n",
        "      <td>...</td>\n",
        "      <td>  0</td>\n",
        "      <td>  0</td>\n",
        "      <td> 3120</td>\n",
        "      <td>  23545</td>\n",
        "      <td>   402</td>\n",
        "      <td> NaN</td>\n",
        "      <td> 3</td>\n",
        "      <td>NaN</td>\n",
        "      <td> 109000</td>\n",
        "      <td>2011-05-02</td>\n",
        "    </tr>\n",
        "    <tr>\n",
        "      <th>7</th>\n",
        "      <td>  7769</td>\n",
        "      <td> CR-11255</td>\n",
        "      <td> 0</td>\n",
        "      <td> 0</td>\n",
        "      <td> no expenses recorded</td>\n",
        "      <td> 0</td>\n",
        "      <td> 0</td>\n",
        "      <td>   1166</td>\n",
        "      <td>     0</td>\n",
        "      <td> NaN</td>\n",
        "      <td>...</td>\n",
        "      <td>NaN</td>\n",
        "      <td>NaN</td>\n",
        "      <td>    0</td>\n",
        "      <td>      0</td>\n",
        "      <td>     0</td>\n",
        "      <td> NaN</td>\n",
        "      <td> 1</td>\n",
        "      <td>NaN</td>\n",
        "      <td>   1166</td>\n",
        "      <td>2011-05-17</td>\n",
        "    </tr>\n",
        "    <tr>\n",
        "      <th>8</th>\n",
        "      <td> 43902</td>\n",
        "      <td> CR-12259</td>\n",
        "      <td> 0</td>\n",
        "      <td> 0</td>\n",
        "      <td> no expenses recorded</td>\n",
        "      <td> 0</td>\n",
        "      <td> 0</td>\n",
        "      <td>      0</td>\n",
        "      <td>     0</td>\n",
        "      <td> NaN</td>\n",
        "      <td>...</td>\n",
        "      <td>  0</td>\n",
        "      <td>  0</td>\n",
        "      <td>    0</td>\n",
        "      <td>      0</td>\n",
        "      <td>  1815</td>\n",
        "      <td> NaN</td>\n",
        "      <td> 1</td>\n",
        "      <td>NaN</td>\n",
        "      <td>      0</td>\n",
        "      <td>2011-05-22</td>\n",
        "    </tr>\n",
        "  </tbody>\n",
        "</table>\n",
        "<p>5 rows \u00d7 82 columns</p>\n",
        "</div>"
       ],
       "metadata": {},
       "output_type": "pyout",
       "prompt_number": 42,
       "text": [
        "   Contact.ID Case.Record.Easy.ID X.Change.to.Debt.from.Baseline  \\\n",
        "1       18878            CR-20649                              0   \n",
        "4       16472            CR-11492                              0   \n",
        "5       18735            CR-11438                              0   \n",
        "7        7769            CR-11255                              0   \n",
        "8       43902            CR-12259                              0   \n",
        "\n",
        "  X.Change.to.HH.Income.from.Baseline X4.Weeks.of.Mo.Expenses.Saved  \\\n",
        "1                                   0          no expenses recorded   \n",
        "4                                   0                          TRUE   \n",
        "5                                   0          no expenses recorded   \n",
        "7                                   0          no expenses recorded   \n",
        "8                                   0          no expenses recorded   \n",
        "\n",
        "   Greatest.Credit.Gain.Value.de.Baseline  Collections.Debt.Total.Balance  \\\n",
        "1                                       0                               0   \n",
        "4                                       0                               0   \n",
        "5                                       0                               0   \n",
        "7                                       0                               0   \n",
        "8                                       0                               0   \n",
        "\n",
        "   Grand.Total.Household.Monthly.Income  Total.value.of.Assets  Equifax.score  \\\n",
        "1                                  1100                      0            NaN   \n",
        "4                                     0                  25000            NaN   \n",
        "5                                109000                      0            697   \n",
        "7                                  1166                      0            NaN   \n",
        "8                                     0                      0            NaN   \n",
        "\n",
        "       ...        Collections.Utilities  Collections.Unsecured.Debt  \\\n",
        "1      ...                          NaN                         NaN   \n",
        "4      ...                            0                           0   \n",
        "5      ...                            0                           0   \n",
        "7      ...                          NaN                         NaN   \n",
        "8      ...                            0                           0   \n",
        "\n",
        "  Public.Records.Debt.Bal Total.Debt Total.MMDP  Assessed.By  \\\n",
        "1                       0          0          0          NaN   \n",
        "4                    2600     501098      22383          NaN   \n",
        "5                    3120      23545        402          NaN   \n",
        "7                       0          0          0          NaN   \n",
        "8                       0          0       1815          NaN   \n",
        "\n",
        "  Completeness.Score  Back.end.DTI.debt.to.income.ratio  \\\n",
        "1                  1                                NaN   \n",
        "4                  4                                NaN   \n",
        "5                  3                                NaN   \n",
        "7                  1                                NaN   \n",
        "8                  1                                NaN   \n",
        "\n",
        "  Total.Income.Minus.Expenses assessment_date_clean  \n",
        "1                        1100            2011-03-09  \n",
        "4                       -2572            2011-04-26  \n",
        "5                      109000            2011-05-02  \n",
        "7                        1166            2011-05-17  \n",
        "8                           0            2011-05-22  \n",
        "\n",
        "[5 rows x 82 columns]"
       ]
      }
     ],
     "prompt_number": 42
    },
    {
     "cell_type": "code",
     "collapsed": false,
     "input": [
      "assessments_for_fincap.shape"
     ],
     "language": "python",
     "metadata": {},
     "outputs": [
      {
       "metadata": {},
       "output_type": "pyout",
       "prompt_number": 43,
       "text": [
        "(2415, 82)"
       ]
      }
     ],
     "prompt_number": 43
    },
    {
     "cell_type": "code",
     "collapsed": false,
     "input": [
      "assessments_for_fincap.columns"
     ],
     "language": "python",
     "metadata": {},
     "outputs": [
      {
       "metadata": {},
       "output_type": "pyout",
       "prompt_number": 44,
       "text": [
        "Index([u'Contact.ID', u'Case.Record.Easy.ID', u'X.Change.to.Debt.from.Baseline', u'X.Change.to.HH.Income.from.Baseline', u'X4.Weeks.of.Mo.Expenses.Saved', u'Greatest.Credit.Gain.Value.de.Baseline', u'Collections.Debt.Total.Balance', u'Grand.Total.Household.Monthly.Income', u'Total.value.of.Assets', u'Equifax.score', u'Experian.Score', u'TransUnion.Score', u'Owner.Name', u'Home.Program', u'Status', u'Number.of.Universal.Financia.Assessments', u'Sequence', u'Order', u'Assessment.Date', u'Using.a.Written.Budget', u'Contribution.to.Savings', u'Rent', u'Mortgage.Total', u'Utilities.Total', u'Housing.Total', u'Food.Total', u'Daycare.Eldercare', u'Medical.Dental.Healthcare', u'Personal.Expenses.Entertainment.Total', u'Transportation.Total', u'Insurance.Premiums.Total', u'Financial.Transactions.Total', u'Remittances.Total', u'Other.Misc.Monthly.Expenses', u'Total.Average.Monthly.Expenses', u'Employment.Income', u'Informal.Work.Income', u'Draw.from.Business', u'Unemployment.Income', u'Rental.Property.Income', u'Pension', u'Food.stamps.WIC', u'Other.Government.Benefits', u'Child.Support', u'Personal.Monthly.Income', u'Other.Household.member.Monthly.Income', u'MONTHLY.Self.Sufficiency.Income.Desired', u'Checking.Account', u'Savings.Account', u'IDA.Balance', u'Cash.on.Hand', u'Foreign.Assets', u'Personal.Property', u'Precious.Medals.Jewelery', u'CD.s.or.Money.Market', u'Stocks.or.Bonds.Current.value', u'Education.Savings', u'Mututal.Funds', u'Retirement', u'Other.Assets.Value', u'Credit.Bureau.s.Reporting', u'Credit.Score.Date', u'Real.Estate.Mortgage.balance', u'Installment.Debt.Student.Loans.balance', u'Install.Debt.Stud.Loans.min.mthly.pay', u'Installment.Debt.Vehicle.Loan.Balance', u'Installment.Debt.Vehicle.Loan.MMDP', u'Installment.Debt.Other.Balance', u'Installment.Debt.Other.min.monthly.pay', u'Revolving.Debt.Balance', u'Revolving.Debt.min.monthly.payment', u'Collections.Medical', u'Collections.Utilities', u'Collections.Unsecured.Debt', u'Public.Records.Debt.Bal', u'Total.Debt', u'Total.MMDP', u'Assessed.By', u'Completeness.Score', u'Back.end.DTI.debt.to.income.ratio', u'Total.Income.Minus.Expenses', u'assessment_date_clean'], dtype='object')"
       ]
      }
     ],
     "prompt_number": 44
    },
    {
     "cell_type": "code",
     "collapsed": false,
     "input": [
      "(assessments_for_fincap['Real.Estate.Mortgage.balance'].fillna(0)==0).mean()"
     ],
     "language": "python",
     "metadata": {},
     "outputs": [
      {
       "metadata": {},
       "output_type": "pyout",
       "prompt_number": 45,
       "text": [
        "0.9163561076604555"
       ]
      }
     ],
     "prompt_number": 45
    },
    {
     "cell_type": "code",
     "collapsed": false,
     "input": [
      "\n",
      "\n",
      "def aggregate_assessments(df):\n",
      "    if len(df) <2:\n",
      "        return pd.DataFrame()\n",
      "    first_assessment = df.loc[df['assessment_date_clean'].idxmin()]\n",
      "    last_assessment = df.loc[df['assessment_date_clean'].idxmax()]\n",
      "    initial_mortgage = first_assessment['Real.Estate.Mortgage.balance']\n",
      "    no_mortgage_before = (pd.isnull(initial_mortgage) or initial_mortgage == 0) \n",
      "    \n",
      "    \n",
      "    final_mortgage = last_assessment['Real.Estate.Mortgage.balance']\n",
      "    has_mortgage_after = (pd.notnull(final_mortgage) and final_mortgage > 0)\n",
      "    \n",
      "    return pd.DataFrame([{'time_between_assessments': last_assessment.assessment_date_clean - first_assessment.assessment_date_clean,\n",
      "                          'debt_0': first_assessment['Total.Debt'],\n",
      "                          'debt_1': last_assessment['Total.Debt'],\n",
      "                          'expenses_0': first_assessment['Total.Average.Monthly.Expenses'],\n",
      "                          'expenses_1': last_assessment['Total.Average.Monthly.Expenses'],\n",
      "                          'total_hh_income_0': first_assessment[current_income_col_name],\n",
      "                          'total_hh_income_1': last_assessment[current_income_col_name],\n",
      "                          'goal_income_0': first_assessment[goal_income_col_name],\n",
      "                          'goal_income_1': last_assessment[goal_income_col_name],\n",
      "                          'has_mortgage_balance_after_not_before': no_mortgage_before and has_mortgage_after,\n",
      "                          'contact_id': first_assessment['Contact.ID']\n",
      "                          }])"
     ],
     "language": "python",
     "metadata": {},
     "outputs": [],
     "prompt_number": 46
    },
    {
     "cell_type": "code",
     "collapsed": false,
     "input": [],
     "language": "python",
     "metadata": {},
     "outputs": [],
     "prompt_number": 46
    },
    {
     "cell_type": "code",
     "collapsed": false,
     "input": [
      "\n",
      "# results = assessments_for_fincap.groupby('Contact.ID').apply(aggregate_assessments).reset_index(drop=True)\n",
      "results = rel_assessments.groupby('Contact.ID').apply(aggregate_assessments).reset_index(drop=True)"
     ],
     "language": "python",
     "metadata": {},
     "outputs": [],
     "prompt_number": 47
    },
    {
     "cell_type": "code",
     "collapsed": false,
     "input": [
      "for i in [0,1]:\n",
      "    results['income_above_goal_' +str(i) ] = results['total_hh_income_' + str(i)] - results['goal_income_' + str(i)]"
     ],
     "language": "python",
     "metadata": {},
     "outputs": [],
     "prompt_number": 48
    },
    {
     "cell_type": "code",
     "collapsed": false,
     "input": [
      "results.has_mortgage_balance_after_not_before.value_counts(dropna=False)"
     ],
     "language": "python",
     "metadata": {},
     "outputs": [
      {
       "metadata": {},
       "output_type": "pyout",
       "prompt_number": 49,
       "text": [
        "False    640\n",
        "True      13\n",
        "NaN        0\n",
        "dtype: int64"
       ]
      }
     ],
     "prompt_number": 49
    },
    {
     "cell_type": "code",
     "collapsed": false,
     "input": [
      "results.head()"
     ],
     "language": "python",
     "metadata": {},
     "outputs": [
      {
       "html": [
        "<div style=\"max-height:1000px;max-width:1500px;overflow:auto;\">\n",
        "<table border=\"1\" class=\"dataframe\">\n",
        "  <thead>\n",
        "    <tr style=\"text-align: right;\">\n",
        "      <th></th>\n",
        "      <th>contact_id</th>\n",
        "      <th>debt_0</th>\n",
        "      <th>debt_1</th>\n",
        "      <th>expenses_0</th>\n",
        "      <th>expenses_1</th>\n",
        "      <th>goal_income_0</th>\n",
        "      <th>goal_income_1</th>\n",
        "      <th>has_mortgage_balance_after_not_before</th>\n",
        "      <th>time_between_assessments</th>\n",
        "      <th>total_hh_income_0</th>\n",
        "      <th>total_hh_income_1</th>\n",
        "      <th>income_above_goal_0</th>\n",
        "      <th>income_above_goal_1</th>\n",
        "    </tr>\n",
        "  </thead>\n",
        "  <tbody>\n",
        "    <tr>\n",
        "      <th>0</th>\n",
        "      <td> 1005</td>\n",
        "      <td>  56910</td>\n",
        "      <td>  55446</td>\n",
        "      <td> 2555</td>\n",
        "      <td> 2555</td>\n",
        "      <td>  NaN</td>\n",
        "      <td>  NaN</td>\n",
        "      <td> False</td>\n",
        "      <td> 92 days</td>\n",
        "      <td> 3000</td>\n",
        "      <td> 3000</td>\n",
        "      <td>  NaN</td>\n",
        "      <td>  NaN</td>\n",
        "    </tr>\n",
        "    <tr>\n",
        "      <th>1</th>\n",
        "      <td> 1041</td>\n",
        "      <td> 205798</td>\n",
        "      <td> 204198</td>\n",
        "      <td> 5530</td>\n",
        "      <td> 5530</td>\n",
        "      <td> 7139</td>\n",
        "      <td> 7139</td>\n",
        "      <td> False</td>\n",
        "      <td>106 days</td>\n",
        "      <td> 4000</td>\n",
        "      <td> 4000</td>\n",
        "      <td>-3139</td>\n",
        "      <td>-3139</td>\n",
        "    </tr>\n",
        "    <tr>\n",
        "      <th>2</th>\n",
        "      <td> 1120</td>\n",
        "      <td>      0</td>\n",
        "      <td> 865166</td>\n",
        "      <td>    0</td>\n",
        "      <td> 5642</td>\n",
        "      <td>  NaN</td>\n",
        "      <td> 2757</td>\n",
        "      <td>  True</td>\n",
        "      <td>800 days</td>\n",
        "      <td>    0</td>\n",
        "      <td> 3500</td>\n",
        "      <td>  NaN</td>\n",
        "      <td>  743</td>\n",
        "    </tr>\n",
        "    <tr>\n",
        "      <th>3</th>\n",
        "      <td> 1612</td>\n",
        "      <td>      0</td>\n",
        "      <td> 151688</td>\n",
        "      <td> 2560</td>\n",
        "      <td> 2320</td>\n",
        "      <td>  NaN</td>\n",
        "      <td> 4865</td>\n",
        "      <td> False</td>\n",
        "      <td>550 days</td>\n",
        "      <td> 4000</td>\n",
        "      <td> 5000</td>\n",
        "      <td>  NaN</td>\n",
        "      <td>  135</td>\n",
        "    </tr>\n",
        "    <tr>\n",
        "      <th>4</th>\n",
        "      <td> 2480</td>\n",
        "      <td>  23869</td>\n",
        "      <td>  23928</td>\n",
        "      <td> 2003</td>\n",
        "      <td> 2003</td>\n",
        "      <td> 2757</td>\n",
        "      <td> 2757</td>\n",
        "      <td> False</td>\n",
        "      <td>110 days</td>\n",
        "      <td> 2200</td>\n",
        "      <td> 2200</td>\n",
        "      <td> -557</td>\n",
        "      <td> -557</td>\n",
        "    </tr>\n",
        "  </tbody>\n",
        "</table>\n",
        "</div>"
       ],
       "metadata": {},
       "output_type": "pyout",
       "prompt_number": 50,
       "text": [
        "   contact_id  debt_0  debt_1  expenses_0  expenses_1  goal_income_0  \\\n",
        "0        1005   56910   55446        2555        2555            NaN   \n",
        "1        1041  205798  204198        5530        5530           7139   \n",
        "2        1120       0  865166           0        5642            NaN   \n",
        "3        1612       0  151688        2560        2320            NaN   \n",
        "4        2480   23869   23928        2003        2003           2757   \n",
        "\n",
        "   goal_income_1 has_mortgage_balance_after_not_before  \\\n",
        "0            NaN                                 False   \n",
        "1           7139                                 False   \n",
        "2           2757                                  True   \n",
        "3           4865                                 False   \n",
        "4           2757                                 False   \n",
        "\n",
        "   time_between_assessments  total_hh_income_0  total_hh_income_1  \\\n",
        "0                   92 days               3000               3000   \n",
        "1                  106 days               4000               4000   \n",
        "2                  800 days                  0               3500   \n",
        "3                  550 days               4000               5000   \n",
        "4                  110 days               2200               2200   \n",
        "\n",
        "   income_above_goal_0  income_above_goal_1  \n",
        "0                  NaN                  NaN  \n",
        "1                -3139                -3139  \n",
        "2                  NaN                  743  \n",
        "3                  NaN                  135  \n",
        "4                 -557                 -557  "
       ]
      }
     ],
     "prompt_number": 50
    },
    {
     "cell_type": "code",
     "collapsed": false,
     "input": [
      "col_roots = ['debt','expenses','goal_income','total_hh_income','income_above_goal']\n",
      "\n",
      "fig, axes = plt.subplots(len(col_roots),1,figsize=(10,5*len(col_roots)))\n",
      "\n",
      "for i, cr in enumerate(col_roots):\n",
      "    ax = axes[i]\n",
      "    temp_df = results[[cr+'_0',cr+'_1']].dropna(how='any')\n",
      "    sns.kdeplot(temp_df[cr+'_0'],temp_df[cr+'_1'],ax=ax)\n",
      "    ax.set_xlim( ax.get_ylim())\n",
      "plt.tight_layout()\n"
     ],
     "language": "python",
     "metadata": {},
     "outputs": [
      {
       "metadata": {},
       "output_type": "display_data",
       "png": "[encoded data removed]",
       "text": [
        "<matplotlib.figure.Figure at 0x10c946950>"
       ]
      }
     ],
     "prompt_number": 51
    },
    {
     "cell_type": "code",
     "collapsed": false,
     "input": [
      "cr = 'debt'\n",
      "temp_df = results[[cr+'_0',cr+'_1']].dropna(how='any')\n",
      "temp_df.head()"
     ],
     "language": "python",
     "metadata": {},
     "outputs": [
      {
       "html": [
        "<div style=\"max-height:1000px;max-width:1500px;overflow:auto;\">\n",
        "<table border=\"1\" class=\"dataframe\">\n",
        "  <thead>\n",
        "    <tr style=\"text-align: right;\">\n",
        "      <th></th>\n",
        "      <th>debt_0</th>\n",
        "      <th>debt_1</th>\n",
        "    </tr>\n",
        "  </thead>\n",
        "  <tbody>\n",
        "    <tr>\n",
        "      <th>0</th>\n",
        "      <td>  56910</td>\n",
        "      <td>  55446</td>\n",
        "    </tr>\n",
        "    <tr>\n",
        "      <th>1</th>\n",
        "      <td> 205798</td>\n",
        "      <td> 204198</td>\n",
        "    </tr>\n",
        "    <tr>\n",
        "      <th>2</th>\n",
        "      <td>      0</td>\n",
        "      <td> 865166</td>\n",
        "    </tr>\n",
        "    <tr>\n",
        "      <th>3</th>\n",
        "      <td>      0</td>\n",
        "      <td> 151688</td>\n",
        "    </tr>\n",
        "    <tr>\n",
        "      <th>4</th>\n",
        "      <td>  23869</td>\n",
        "      <td>  23928</td>\n",
        "    </tr>\n",
        "  </tbody>\n",
        "</table>\n",
        "</div>"
       ],
       "metadata": {},
       "output_type": "pyout",
       "prompt_number": 52,
       "text": [
        "   debt_0  debt_1\n",
        "0   56910   55446\n",
        "1  205798  204198\n",
        "2       0  865166\n",
        "3       0  151688\n",
        "4   23869   23928"
       ]
      }
     ],
     "prompt_number": 52
    },
    {
     "cell_type": "code",
     "collapsed": false,
     "input": [
      "ax = sns.violinplot(temp_df,join_rm=True)\n",
      "ax.set_ylim(-1e6,1e6)"
     ],
     "language": "python",
     "metadata": {},
     "outputs": [
      {
       "metadata": {},
       "output_type": "pyout",
       "prompt_number": 53,
       "text": [
        "(-1000000.0, 1000000.0)"
       ]
      },
      {
       "metadata": {},
       "output_type": "display_data",
       "png": "[encoded data removed]",
       "text": [
        "<matplotlib.figure.Figure at 0x10c94ad50>"
       ]
      }
     ],
     "prompt_number": 53
    },
    {
     "cell_type": "code",
     "collapsed": false,
     "input": [
      "(temp_df < 1e6).mean()"
     ],
     "language": "python",
     "metadata": {},
     "outputs": [
      {
       "metadata": {},
       "output_type": "pyout",
       "prompt_number": 54,
       "text": [
        "debt_0    0.993874\n",
        "debt_1    0.993874\n",
        "dtype: float64"
       ]
      }
     ],
     "prompt_number": 54
    },
    {
     "cell_type": "code",
     "collapsed": false,
     "input": [
      "reg = sns.regplot('debt_0','debt_1',temp_df[(temp_df<1e6).all(axis=1)],\n",
      "           )\n",
      "sns.plt.ylim(0,)\n",
      "sns.plt.xlim(0,)"
     ],
     "language": "python",
     "metadata": {},
     "outputs": [
      {
       "metadata": {},
       "output_type": "pyout",
       "prompt_number": 55,
       "text": [
        "(0, 1200000.0)"
       ]
      },
      {
       "metadata": {},
       "output_type": "display_data",
       "png": "[encoded data removed]",
       "text": [
        "<matplotlib.figure.Figure at 0x10ceb01d0>"
       ]
      }
     ],
     "prompt_number": 55
    },
    {
     "cell_type": "code",
     "collapsed": false,
     "input": [
      "vals = []\n",
      "names = []\n",
      "for cr in col_roots:\n",
      "    temp_df = results[[cr+'_0',cr+'_1']].dropna(how='any')\n",
      "    names.append(cr)\n",
      "    vals.append((temp_df[cr + '_1'] > temp_df[cr+'_0']).mean())\n",
      "s = pd.Series(data=vals,index=names)\n",
      "print s"
     ],
     "language": "python",
     "metadata": {},
     "outputs": [
      {
       "output_type": "stream",
       "stream": "stdout",
       "text": [
        "debt                 0.434916\n",
        "expenses             0.185299\n",
        "goal_income          0.011236\n",
        "total_hh_income      0.258806\n",
        "income_above_goal    0.123596\n",
        "dtype: float64\n"
       ]
      }
     ],
     "prompt_number": 56
    },
    {
     "cell_type": "code",
     "collapsed": false,
     "input": [
      "s.order().plot(kind='barh')"
     ],
     "language": "python",
     "metadata": {},
     "outputs": [
      {
       "metadata": {},
       "output_type": "pyout",
       "prompt_number": 57,
       "text": [
        "<matplotlib.axes.AxesSubplot at 0x10e3256d0>"
       ]
      },
      {
       "metadata": {},
       "output_type": "display_data",
       "png": "[encoded data removed]",
       "text": [
        "<matplotlib.figure.Figure at 0x10c934750>"
       ]
      }
     ],
     "prompt_number": 57
    },
    {
     "cell_type": "code",
     "collapsed": false,
     "input": [
      "vals = []\n",
      "idx_lv_1 = []\n",
      "idx_lv_2 = []\n",
      "for cr in col_roots:\n",
      "    temp_df = results[[cr+'_0',cr+'_1']].dropna(how='any')\n",
      "    for i in '0','1':\n",
      "        idx_lv_1.append(cr)\n",
      "        idx_lv_2.append(i)\n",
      "    \n",
      "        vals.append(temp_df[cr + '_'+i].median())\n",
      "s = pd.Series(data=vals,index=pd.MultiIndex.from_tuples(zip(idx_lv_1,idx_lv_2)))\n",
      "print s"
     ],
     "language": "python",
     "metadata": {},
     "outputs": [
      {
       "output_type": "stream",
       "stream": "stdout",
       "text": [
        "debt               0    2023.00\n",
        "                   1    4045.00\n",
        "expenses           0    1590.00\n",
        "                   1    1550.00\n",
        "goal_income        0    4484.00\n",
        "                   1    4484.00\n",
        "total_hh_income    0    2000.00\n",
        "                   1    2327.92\n",
        "income_above_goal  0   -2093.00\n",
        "                   1   -1957.00\n",
        "dtype: float64\n"
       ]
      }
     ],
     "prompt_number": 58
    },
    {
     "cell_type": "code",
     "collapsed": false,
     "input": [
      "ax = s.unstack().plot(kind='barh')\n"
     ],
     "language": "python",
     "metadata": {},
     "outputs": [
      {
       "metadata": {},
       "output_type": "display_data",
       "png": "[encoded data removed]",
       "text": [
        "<matplotlib.figure.Figure at 0x10e330050>"
       ]
      }
     ],
     "prompt_number": 59
    },
    {
     "cell_type": "code",
     "collapsed": false,
     "input": [],
     "language": "python",
     "metadata": {},
     "outputs": [],
     "prompt_number": 59
    }
   ],
   "metadata": {}
  }
 ]
}
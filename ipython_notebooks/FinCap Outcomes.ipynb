{
 "metadata": {
  "name": "",
  "signature": "sha256:570ef963d2364e24e4c8039a53f08517f42b7665f4d46856aa9208d945d58ab8"
 },
 "nbformat": 3,
 "nbformat_minor": 0,
 "worksheets": [
  {
   "cells": [
    {
     "cell_type": "markdown",
     "metadata": {},
     "source": [
      "Findings:\n",
      "\n",
      "    * Of ~3000 fincap participants, we only have any assessment data for 885 of them. We don't know why -- might be worth followup analysis for demographic predictors.\n",
      "    * of those 885, we have multiple assessments for 653\n",
      "    * Some of this is because the first assessment was recently, but there are also older assessments without followups.\n",
      "    * We looked at the differences between assessments with followups and assessments without, but didn't come up with any predictors."
     ]
    },
    {
     "cell_type": "code",
     "collapsed": false,
     "input": [
      "import pandas as pd\n",
      "import os"
     ],
     "language": "python",
     "metadata": {},
     "outputs": []
    },
    {
     "cell_type": "code",
     "collapsed": false,
     "input": [
      "filepath = os.path.expanduser('/Users/louispotok/Dropbox/DataDive_MEDA/DataKind_DataDive_MEDA_032715_v2_2015-03-27_clean_09_FINCAP_Case_Records.csv')"
     ],
     "language": "python",
     "metadata": {},
     "outputs": []
    },
    {
     "cell_type": "code",
     "collapsed": false,
     "input": [
      "fincap_records = pd.read_csv(filepath)"
     ],
     "language": "python",
     "metadata": {},
     "outputs": []
    },
    {
     "cell_type": "code",
     "collapsed": false,
     "input": [
      "filepath = '~/Dropbox/DataDive_MEDA/DataKind_DataDive_MEDA_032715_v2_2015-03-27_clean_04_Universal_Financial_Assessments.csv'\n",
      "assessments = pd.read_csv(os.path.expanduser(filepath))\n",
      "assessments['assessment_date_clean'] = pd.to_datetime(assessments['Assessment.Date'])\n",
      "#0\n",
      "current_income_col_name = 'Grand.Total.Household.Monthly.Income'\n",
      "goal_income_col_name = 'MONTHLY.Self.Sufficiency.Income.Desired'\n",
      "#1. Clients with only one assessment\n",
      "number_assessments_per_client = assessments.groupby('Contact.ID').size()\n",
      "clients_with_multiple_assessments = number_assessments_per_client[number_assessments_per_client > 1].index\n",
      "df = assessments[assessments['Contact.ID'].isin(clients_with_multiple_assessments)]\n"
     ],
     "language": "python",
     "metadata": {},
     "outputs": []
    },
    {
     "cell_type": "code",
     "collapsed": false,
     "input": [
      "assessments.shape"
     ],
     "language": "python",
     "metadata": {},
     "outputs": []
    },
    {
     "cell_type": "code",
     "collapsed": false,
     "input": [
      "assessments['Contact.ID'].nunique()"
     ],
     "language": "python",
     "metadata": {},
     "outputs": []
    },
    {
     "cell_type": "code",
     "collapsed": false,
     "input": [
      "[c for c in assessments.columns if 'saving' in c.lower()]"
     ],
     "language": "python",
     "metadata": {},
     "outputs": []
    },
    {
     "cell_type": "code",
     "collapsed": false,
     "input": [],
     "language": "python",
     "metadata": {},
     "outputs": []
    },
    {
     "cell_type": "code",
     "collapsed": false,
     "input": [
      "df.head()"
     ],
     "language": "python",
     "metadata": {},
     "outputs": []
    },
    {
     "cell_type": "code",
     "collapsed": false,
     "input": [
      "(assessments[goal_income_col_name] - assessments[current_income_col_name]).isnull().value_counts()"
     ],
     "language": "python",
     "metadata": {},
     "outputs": []
    },
    {
     "cell_type": "code",
     "collapsed": false,
     "input": [
      "((assessments[goal_income_col_name] - assessments[current_income_col_name]).dropna() > 0).dropna().value_counts()"
     ],
     "language": "python",
     "metadata": {},
     "outputs": []
    },
    {
     "cell_type": "code",
     "collapsed": false,
     "input": [
      "assessments[assessments[goal_income_col_name].notnull()].assessment_date_clean.order().iloc[:5]"
     ],
     "language": "python",
     "metadata": {},
     "outputs": []
    },
    {
     "cell_type": "code",
     "collapsed": false,
     "input": [
      "number_assessments_per_contact = assessments.groupby('Contact.ID').size()\n",
      "contacts_with_mult_assessments = number_assessments_per_contact > 1\n",
      "contacts_where_over_1_assessment_has_goal_income = assessments.groupby('Contact.ID').apply(lambda df: df[goal_income_col_name].notnull().sum() > 1)"
     ],
     "language": "python",
     "metadata": {},
     "outputs": []
    },
    {
     "cell_type": "code",
     "collapsed": false,
     "input": [
      "contacts_with_mult_assessments.value_counts()"
     ],
     "language": "python",
     "metadata": {},
     "outputs": []
    },
    {
     "cell_type": "code",
     "collapsed": false,
     "input": [
      "contacts_where_over_1_assessment_has_goal_income.value_counts()"
     ],
     "language": "python",
     "metadata": {},
     "outputs": []
    },
    {
     "cell_type": "code",
     "collapsed": false,
     "input": [
      "fincap_records.shape"
     ],
     "language": "python",
     "metadata": {},
     "outputs": []
    },
    {
     "cell_type": "code",
     "collapsed": false,
     "input": [
      "fincap_records.head()"
     ],
     "language": "python",
     "metadata": {},
     "outputs": []
    },
    {
     "cell_type": "code",
     "collapsed": false,
     "input": [
      "fincap_participant_ids = fincap_records['Contact.ID'].unique()"
     ],
     "language": "python",
     "metadata": {},
     "outputs": []
    },
    {
     "cell_type": "code",
     "collapsed": false,
     "input": [
      "relevant_ids = set(fincap_participant_ids).intersection(set(contacts_with_mult_assessments[contacts_with_mult_assessments].index))\n",
      "len(relevant_ids)"
     ],
     "language": "python",
     "metadata": {},
     "outputs": []
    },
    {
     "cell_type": "code",
     "collapsed": false,
     "input": [
      "rel_assessments = assessments[assessments['Contact.ID'].isin(relevant_ids)]"
     ],
     "language": "python",
     "metadata": {},
     "outputs": []
    },
    {
     "cell_type": "code",
     "collapsed": false,
     "input": [
      "rel_assessments.head()"
     ],
     "language": "python",
     "metadata": {},
     "outputs": []
    },
    {
     "cell_type": "code",
     "collapsed": false,
     "input": [
      "print len(fincap_participant_ids)\n",
      "assessments[assessments['Contact.ID'].isin(fincap_participant_ids)]['Contact.ID'].nunique()"
     ],
     "language": "python",
     "metadata": {},
     "outputs": []
    },
    {
     "cell_type": "code",
     "collapsed": false,
     "input": [
      "assessments_for_fincap = assessments[assessments['Contact.ID'].isin(fincap_participant_ids)]"
     ],
     "language": "python",
     "metadata": {},
     "outputs": []
    },
    {
     "cell_type": "code",
     "collapsed": false,
     "input": [
      "mult_assessment_mask = assessments_for_fincap['Contact.ID'].isin(contacts_with_mult_assessments[contacts_with_mult_assessments].index)"
     ],
     "language": "python",
     "metadata": {},
     "outputs": []
    },
    {
     "cell_type": "code",
     "collapsed": false,
     "input": [
      "print assessments_for_fincap[mult_assessment_mask]['Contact.ID'].nunique()\n",
      "print assessments_for_fincap[-mult_assessment_mask]['Contact.ID'].nunique()"
     ],
     "language": "python",
     "metadata": {},
     "outputs": []
    },
    {
     "cell_type": "code",
     "collapsed": false,
     "input": [
      "import datetime"
     ],
     "language": "python",
     "metadata": {},
     "outputs": []
    },
    {
     "cell_type": "code",
     "collapsed": false,
     "input": [
      "import numpy as np"
     ],
     "language": "python",
     "metadata": {},
     "outputs": []
    },
    {
     "cell_type": "code",
     "collapsed": false,
     "input": [
      "import seaborn as sns\n",
      "%pylab inline"
     ],
     "language": "python",
     "metadata": {},
     "outputs": []
    },
    {
     "cell_type": "code",
     "collapsed": false,
     "input": [
      "((assessments_for_fincap[-mult_assessment_mask].assessment_date_clean - datetime.date.today())/np.timedelta64(1,'D')).hist()"
     ],
     "language": "python",
     "metadata": {},
     "outputs": []
    },
    {
     "cell_type": "code",
     "collapsed": false,
     "input": [
      "def aggregate_for_return_prediction(df):\n",
      "    first_assessment = df.loc[df['assessment_date_clean'].idxmin()]\n",
      "    return pd.DataFrame([{'has_second_assessment': len(df) > 1,\n",
      "                         'total_debt': first_assessment['Total.Debt'],\n",
      "                         'total_income' : first_assessment['Total.Income.Minus.Expenses'],\n",
      "                         'total_expenses': first_assessment['Total.Average.Monthly.Expenses'],\n",
      "                         'four_Weeks_of_Mo_Expenses_Saved': first_assessment['X4.Weeks.of.Mo.Expenses.Saved'] }])"
     ],
     "language": "python",
     "metadata": {},
     "outputs": []
    },
    {
     "cell_type": "code",
     "collapsed": false,
     "input": [
      "reshaped = assessments_for_fincap.groupby('Contact.ID').apply(aggregate_for_return_prediction).reset_index(drop=True)"
     ],
     "language": "python",
     "metadata": {},
     "outputs": []
    },
    {
     "cell_type": "code",
     "collapsed": false,
     "input": [
      "reshaped.four_Weeks_of_Mo_Expenses_Saved = reshaped.four_Weeks_of_Mo_Expenses_Saved.replace({'no expenses recorded': None,\n",
      "                                                                                             'FALSE': False,\n",
      "                                                                                             'TRUE': True})"
     ],
     "language": "python",
     "metadata": {},
     "outputs": []
    },
    {
     "cell_type": "code",
     "collapsed": false,
     "input": [
      "reshaped.head()"
     ],
     "language": "python",
     "metadata": {},
     "outputs": []
    },
    {
     "cell_type": "code",
     "collapsed": false,
     "input": [
      "reshaped.four_Weeks_of_Mo_Expenses_Saved.value_counts(dropna=False)"
     ],
     "language": "python",
     "metadata": {},
     "outputs": []
    },
    {
     "cell_type": "code",
     "collapsed": false,
     "input": [
      "reshaped.has_second_assessment.value_counts(dropna=False)"
     ],
     "language": "python",
     "metadata": {},
     "outputs": []
    },
    {
     "cell_type": "code",
     "collapsed": false,
     "input": [
      "reshaped.total_debt.describe()"
     ],
     "language": "python",
     "metadata": {},
     "outputs": []
    },
    {
     "cell_type": "code",
     "collapsed": false,
     "input": [
      "reshaped.total_expenses.describe()"
     ],
     "language": "python",
     "metadata": {},
     "outputs": []
    },
    {
     "cell_type": "code",
     "collapsed": false,
     "input": [
      "reshaped.total_income.describe()"
     ],
     "language": "python",
     "metadata": {},
     "outputs": []
    },
    {
     "cell_type": "code",
     "collapsed": false,
     "input": [
      "from sklearn.linear_model import LogisticRegression"
     ],
     "language": "python",
     "metadata": {},
     "outputs": []
    },
    {
     "cell_type": "code",
     "collapsed": false,
     "input": [
      "lm = LogisticRegression()"
     ],
     "language": "python",
     "metadata": {},
     "outputs": []
    },
    {
     "cell_type": "code",
     "collapsed": false,
     "input": [
      "for_regression = reshaped.dropna(how='any')\n",
      "training_idx = np.random.choice(for_regression.index,int(.8 * len(for_regression)),replace=False)\n",
      "test_idx = [i for i in for_regression.index if i not in training_idx]"
     ],
     "language": "python",
     "metadata": {},
     "outputs": []
    },
    {
     "cell_type": "code",
     "collapsed": false,
     "input": [
      "lm = lm.fit(for_regression.loc[training_idx,[c for c in reshaped.columns if c != 'has_second_assessment']],\n",
      "            for_regression.loc[training_idx,'has_second_assessment'])"
     ],
     "language": "python",
     "metadata": {},
     "outputs": []
    },
    {
     "cell_type": "code",
     "collapsed": false,
     "input": [
      "lm.score(for_regression.loc[test_idx,[c for c in reshaped.columns if c != 'has_second_assessment']],\n",
      "         for_regression.loc[test_idx,'has_second_assessment'])"
     ],
     "language": "python",
     "metadata": {},
     "outputs": []
    },
    {
     "cell_type": "code",
     "collapsed": false,
     "input": [
      "lm.predict(for_regression.loc[test_idx,[c for c in reshaped.columns if c != 'has_second_assessment']])"
     ],
     "language": "python",
     "metadata": {},
     "outputs": []
    },
    {
     "cell_type": "code",
     "collapsed": false,
     "input": [
      "for_regression.has_second_assessment.mean()"
     ],
     "language": "python",
     "metadata": {},
     "outputs": []
    },
    {
     "cell_type": "code",
     "collapsed": false,
     "input": [
      "X_train,y_train, = [for_regression[[c for c in reshaped.columns if c != 'has_second_assessment']],\n",
      "                   for_regression['has_second_assessment']]\n",
      "                   \n",
      "    \n",
      "\n",
      "\n",
      "from sklearn.cross_validation import cross_val_score\n",
      "scores = cross_val_score(LogisticRegression(), X_train, y_train, scoring='precision', cv=10)\n",
      "print \"Cross Validation Scores for %i splits of data:\\n \" %10\n",
      "np.set_printoptions(precision=3)\n",
      "print scores\n",
      "print \"\\nMean of scores:%.3f\" %scores.mean() "
     ],
     "language": "python",
     "metadata": {},
     "outputs": []
    },
    {
     "cell_type": "code",
     "collapsed": false,
     "input": [],
     "language": "python",
     "metadata": {},
     "outputs": []
    },
    {
     "cell_type": "code",
     "collapsed": false,
     "input": [],
     "language": "python",
     "metadata": {},
     "outputs": []
    },
    {
     "cell_type": "code",
     "collapsed": false,
     "input": [
      "sns.corrplot(reshaped)"
     ],
     "language": "python",
     "metadata": {},
     "outputs": []
    },
    {
     "cell_type": "code",
     "collapsed": false,
     "input": [
      "#2 aggregate\n",
      "\n",
      "def aggregate_assessments(df):\n",
      "    first_assessment = df.loc[df['assessment_date_clean'].idxmin()]\n",
      "    last_assessment = df.loc[df['assessment_date_clean'].idxmax()]\n",
      "    \n",
      "    return pd.DataFrame([{'time_between_assessments': last_assessment.assessment_date_clean - first_assessment.assessment_date_clean,\n",
      "                          'debt_0': first_assessment['Total.Debt'],\n",
      "                          'debt_1': last_assessment['Total.Debt'],\n",
      "                          'expenses_0': first_assessment['Total.Average.Monthly.Expenses'],\n",
      "                          'expenses_1': last_assessment['Total.Average.Monthly.Expenses'],\n",
      "                          'income_0': first_assessment['Total.Income.Minus.Expenses'],\n",
      "                          'income_1': last_assessment['Total.Income.Minus.Expenses'],\n",
      "                          }])"
     ],
     "language": "python",
     "metadata": {},
     "outputs": []
    },
    {
     "cell_type": "code",
     "collapsed": false,
     "input": [],
     "language": "python",
     "metadata": {},
     "outputs": []
    }
   ],
   "metadata": {}
  }
 ]
}
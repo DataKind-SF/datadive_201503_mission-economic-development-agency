{
 "metadata": {
  "name": "",
  "signature": "sha256:22667e44564ae1d022dec3c0f4b17925f7ca788f76ba056ecde664f505c89f96"
 },
 "nbformat": 3,
 "nbformat_minor": 0,
 "worksheets": [
  {
   "cells": [
    {
     "cell_type": "code",
     "collapsed": false,
     "input": [
      "import pandas as pd\n",
      "import os"
     ],
     "language": "python",
     "metadata": {},
     "outputs": []
    },
    {
     "cell_type": "code",
     "collapsed": false,
     "input": [
      "import seaborn as sns\n",
      "%pylab inline"
     ],
     "language": "python",
     "metadata": {},
     "outputs": []
    },
    {
     "cell_type": "code",
     "collapsed": false,
     "input": [
      "filepath = '~/Dropbox/DataDive_MEDA/DataKind_DataDive_MEDA_032715_v2_2015-03-27_clean_04_Universal_Financial_Assessments.csv'"
     ],
     "language": "python",
     "metadata": {},
     "outputs": []
    },
    {
     "cell_type": "code",
     "collapsed": false,
     "input": [
      "assessments = pd.read_csv(os.path.expanduser(filepath))"
     ],
     "language": "python",
     "metadata": {},
     "outputs": []
    },
    {
     "cell_type": "code",
     "collapsed": false,
     "input": [
      "assessments.shape"
     ],
     "language": "python",
     "metadata": {},
     "outputs": []
    },
    {
     "cell_type": "code",
     "collapsed": false,
     "input": [
      "assessments.head()"
     ],
     "language": "python",
     "metadata": {},
     "outputs": []
    },
    {
     "cell_type": "code",
     "collapsed": false,
     "input": [
      "[c for c in assessments if 'baseline' in c.lower()]"
     ],
     "language": "python",
     "metadata": {},
     "outputs": []
    },
    {
     "cell_type": "code",
     "collapsed": false,
     "input": [
      "assessments['assessment_date_clean'] = pd.to_datetime(assessments['Assessment.Date'])"
     ],
     "language": "python",
     "metadata": {},
     "outputs": []
    },
    {
     "cell_type": "code",
     "collapsed": false,
     "input": [
      "#1. Clients with only one assessment\n",
      "number_assessments_per_client = assessments.groupby('Contact.ID').size()\n",
      "clients_with_multiple_assessments = number_assessments_per_client[number_assessments_per_client > 1].index\n",
      "df = assessments[assessments['Contact.ID'].isin(clients_with_multiple_assessments)]"
     ],
     "language": "python",
     "metadata": {},
     "outputs": []
    },
    {
     "cell_type": "code",
     "collapsed": false,
     "input": [
      "#2\n",
      "\n",
      "def aggregate_assessments(df):\n",
      "    first_assessment = df.loc[df['assessment_date_clean'].idxmin()]\n",
      "    last_assessment = df.loc[df['assessment_date_clean'].idxmax()]\n",
      "    \n",
      "    return pd.DataFrame([{'time_between_assessments': last_assessment.assessment_date_clean - first_assessment.assessment_date_clean,\n",
      "                          'debt_0': first_assessment['Total.Debt'],\n",
      "                          'debt_1': last_assessment['Total.Debt'],\n",
      "                          'expenses_0': first_assessment['Total.Average.Monthly.Expenses'],\n",
      "                          'expenses_1': last_assessment['Total.Average.Monthly.Expenses'],\n",
      "                          'income_0': first_assessment['Total.Income.Minus.Expenses'],\n",
      "                          'income_1': last_assessment['Total.Income.Minus.Expenses'],\n",
      "                          }])"
     ],
     "language": "python",
     "metadata": {},
     "outputs": []
    },
    {
     "cell_type": "code",
     "collapsed": false,
     "input": [
      "change_in_assessments = df.groupby('Contact.ID').apply(aggregate_assessments).reset_index(drop=True)\n",
      "change_in_assessments.head()"
     ],
     "language": "python",
     "metadata": {},
     "outputs": []
    },
    {
     "cell_type": "code",
     "collapsed": false,
     "input": [
      "[c for c in assessments.columns if 'total' in c.lower()]"
     ],
     "language": "python",
     "metadata": {},
     "outputs": []
    },
    {
     "cell_type": "code",
     "collapsed": false,
     "input": [
      "initial_income_is_positive = change_in_assessments.income_0 > 0\n",
      "final_income_is_positive = change_in_assessments.income_1 > 0"
     ],
     "language": "python",
     "metadata": {},
     "outputs": []
    },
    {
     "cell_type": "code",
     "collapsed": false,
     "input": [
      "pd.crosstab(initial_income_is_positive,final_income_is_positive)"
     ],
     "language": "python",
     "metadata": {},
     "outputs": []
    },
    {
     "cell_type": "code",
     "collapsed": false,
     "input": [
      "(change_in_assessments.income_1 - change_in_assessments.income_0)\n",
      "ax = change_in_assessments.plot(x='income_0',y='income_1',kind='scatter')\n",
      "lims = -10000,10000\n",
      "ax.set_xlim(lims)\n",
      "ax.set_ylim(lims)"
     ],
     "language": "python",
     "metadata": {},
     "outputs": []
    },
    {
     "cell_type": "code",
     "collapsed": false,
     "input": [
      "change_in_income = (change_in_assessments.income_1 - change_in_assessments.income_0)"
     ],
     "language": "python",
     "metadata": {},
     "outputs": []
    },
    {
     "cell_type": "code",
     "collapsed": false,
     "input": [
      "(change_in_assessments.income_1 - change_in_assessments.income_0)"
     ],
     "language": "python",
     "metadata": {},
     "outputs": []
    },
    {
     "cell_type": "code",
     "collapsed": false,
     "input": [
      "change_in_income.hist(bins=[-20000,-10000,-5000,-1000,-100,100,1000,5000,10000,20000])"
     ],
     "language": "python",
     "metadata": {},
     "outputs": []
    },
    {
     "cell_type": "code",
     "collapsed": false,
     "input": [
      "change_in_assessments['change_in_income'] = change_in_income"
     ],
     "language": "python",
     "metadata": {},
     "outputs": []
    },
    {
     "cell_type": "code",
     "collapsed": false,
     "input": [
      "cat = pd.cut(change_in_assessments.time_between_assessments/np.timedelta64(1,'D'),bins=[0,90,180,365,720,9e9])"
     ],
     "language": "python",
     "metadata": {},
     "outputs": []
    },
    {
     "cell_type": "code",
     "collapsed": false,
     "input": [
      "cat.levels"
     ],
     "language": "python",
     "metadata": {},
     "outputs": []
    },
    {
     "cell_type": "code",
     "collapsed": false,
     "input": [
      "change_in_assessments['days_bin'] = cat"
     ],
     "language": "python",
     "metadata": {},
     "outputs": []
    },
    {
     "cell_type": "code",
     "collapsed": false,
     "input": [
      "change_in_assessments.groupby('days_bin').size().ix[cat.levels].plot(kind='bar')"
     ],
     "language": "python",
     "metadata": {},
     "outputs": []
    },
    {
     "cell_type": "code",
     "collapsed": false,
     "input": [
      "change_in_assessments.groupby('days_bin').change_in_income.mean().ix[cat.levels].plot(kind='bar')"
     ],
     "language": "python",
     "metadata": {},
     "outputs": []
    },
    {
     "cell_type": "code",
     "collapsed": false,
     "input": [
      "change_in_assessments.groupby('days_bin').change_in_income.median().ix[cat.levels].plot(kind='bar')"
     ],
     "language": "python",
     "metadata": {},
     "outputs": []
    }
   ],
   "metadata": {}
  }
 ]
}